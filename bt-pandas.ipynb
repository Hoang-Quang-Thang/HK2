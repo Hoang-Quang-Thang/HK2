{
 "cells": [
  {
   "cell_type": "markdown",
   "metadata": {},
   "source": [
    "Câu 1: Hãy tạo 1 đối tượng kiểu Series có tối thiểu 10 phần tử (kiểu số) với giá trị tùy ý thích của bạn. \n",
    "       In giá trị của Series đó ra màn hình"
   ]
  },
  {
   "cell_type": "code",
   "execution_count": 52,
   "metadata": {},
   "outputs": [
    {
     "data": {
      "text/plain": [
       "0    45\n",
       "1    67\n",
       "2    32\n",
       "3    12\n",
       "4     4\n",
       "5    72\n",
       "6    27\n",
       "7    88\n",
       "8    94\n",
       "9    10\n",
       "dtype: int64"
      ]
     },
     "execution_count": 52,
     "metadata": {},
     "output_type": "execute_result"
    }
   ],
   "source": [
    "#Mã lệnh của bạn\n",
    "import pandas as pd\n",
    "\n",
    "a = [45,67,32,12,4,72,27,88,94,10]\n",
    "seri = pd.Series(a)\n",
    "seri"
   ]
  },
  {
   "cell_type": "markdown",
   "metadata": {},
   "source": [
    "Câu 2: Hãy tạo 1 đối tượng kiểu Series với giá trị khởi tạo hình thành từ dữ liệu kiểu Dictionary. In kết quả ra màn hình"
   ]
  },
  {
   "cell_type": "code",
   "execution_count": 57,
   "metadata": {},
   "outputs": [
    {
     "data": {
      "text/plain": [
       "Name             Thang\n",
       "Age                 19\n",
       "Address        Vietnam\n",
       "Brand            Honda\n",
       "Model      Honda Civic\n",
       "Year              2020\n",
       "dtype: object"
      ]
     },
     "execution_count": 57,
     "metadata": {},
     "output_type": "execute_result"
    }
   ],
   "source": [
    "#Mã lệnh của bạn\n",
    "dic = pd.Series({\"Name\": \"Thang\", \"Age\": 19, \"Address\" : \"Vietnam\", \"Brand\": \"Honda\", \"Model\": \"Honda Civic\", \"Year\": 2020})\n",
    "dic"
   ]
  },
  {
   "cell_type": "markdown",
   "metadata": {},
   "source": [
    "Câu 3: Sử dụng series ở câu 1, hãy thay đổi giá trị của cột index từ kiểu số theo kiểu ký tự với giá trị do bạn tự xác định."
   ]
  },
  {
   "cell_type": "code",
   "execution_count": 60,
   "metadata": {},
   "outputs": [
    {
     "data": {
      "text/plain": [
       "a1    45\n",
       "b1    67\n",
       "c2    32\n",
       "d1    12\n",
       "e2     4\n",
       "f2    72\n",
       "g1    27\n",
       "h2    88\n",
       "i1    94\n",
       "j2    10\n",
       "dtype: int64"
      ]
     },
     "execution_count": 60,
     "metadata": {},
     "output_type": "execute_result"
    }
   ],
   "source": [
    "#Mã lệnh của bạn\n",
    "index = ['a1','b1','c2','d1','e2','f2','g1','h2','i1','j2']\n",
    "a = [45,67,32,12,4,72,27,88,94,10]\n",
    "seri1 = pd.Series(a, index=index)\n",
    "seri1"
   ]
  },
  {
   "cell_type": "markdown",
   "metadata": {},
   "source": [
    "Câu 4: Sử dụng series ở câu 2, hãy truy cập đến phần tử thứ 5 và in ra màn hình"
   ]
  },
  {
   "cell_type": "code",
   "execution_count": 61,
   "metadata": {},
   "outputs": [
    {
     "data": {
      "text/plain": [
       "0    Honda Civic\n",
       "Name: Model, dtype: object"
      ]
     },
     "execution_count": 61,
     "metadata": {},
     "output_type": "execute_result"
    }
   ],
   "source": [
    "#Mã lệnh của bạn\n",
    "\n",
    "pd.DataFrame(dic).iloc[4]"
   ]
  },
  {
   "cell_type": "markdown",
   "metadata": {},
   "source": [
    "Câu 5: Sử dụng series ở câu 3, hãy truy cập đến 1 phần tử dựa theo chỉ số kiểu ký tự do bạn lựa chọn và in ra màn hình"
   ]
  },
  {
   "cell_type": "code",
   "execution_count": 62,
   "metadata": {},
   "outputs": [
    {
     "data": {
      "text/plain": [
       "72"
      ]
     },
     "execution_count": 62,
     "metadata": {},
     "output_type": "execute_result"
    }
   ],
   "source": [
    "#Mã lệnh của bạn\n",
    "\n",
    "seri1['f2']"
   ]
  },
  {
   "cell_type": "markdown",
   "metadata": {},
   "source": [
    "Câu 6: Sử dụng series ở câu 3, hãy tìm ra tính chất đặc thù trong các chỉ số kiểu kí tự, thực hiện vòng lặp for duyệt trên các chỉ mục kiểu kí tự này để lọc ra những phần tử thỏa mãn điều kiện và in ra màn hình"
   ]
  },
  {
   "cell_type": "code",
   "execution_count": 63,
   "metadata": {},
   "outputs": [
    {
     "data": {
      "text/plain": [
       "a1    45\n",
       "b1    67\n",
       "d1    12\n",
       "g1    27\n",
       "i1    94\n",
       "dtype: int64"
      ]
     },
     "execution_count": 63,
     "metadata": {},
     "output_type": "execute_result"
    }
   ],
   "source": [
    "#Mã lệnh của bạn\n",
    "\n",
    "seri1[[name.endswith('1') for name in seri1.index]]"
   ]
  },
  {
   "cell_type": "markdown",
   "metadata": {},
   "source": [
    "Câu 7: Sử dụng series ở câu 1, hãy đổi tên cột index thành 'STT' và đặt tên cho series là 'Gia_tri'. In kết quả ra màn hình "
   ]
  },
  {
   "cell_type": "code",
   "execution_count": 64,
   "metadata": {},
   "outputs": [
    {
     "data": {
      "text/plain": [
       "STT\n",
       "0    45\n",
       "1    67\n",
       "2    32\n",
       "3    12\n",
       "4     4\n",
       "5    72\n",
       "6    27\n",
       "7    88\n",
       "8    94\n",
       "9    10\n",
       "Name: Gia_tri, dtype: int64"
      ]
     },
     "execution_count": 64,
     "metadata": {},
     "output_type": "execute_result"
    }
   ],
   "source": [
    "#Mã lệnh của bạn\n",
    "seri.index.name = 'STT'\n",
    "seri.name = 'Gia_tri'\n",
    "seri"
   ]
  },
  {
   "cell_type": "markdown",
   "metadata": {},
   "source": [
    "Câu 8: Hãy áp dụng hàm logarith của gói numpy với series ở câu 1 và in kết quả ra màn hình"
   ]
  },
  {
   "cell_type": "code",
   "execution_count": 65,
   "metadata": {},
   "outputs": [
    {
     "data": {
      "text/plain": [
       "STT\n",
       "0    3.806662\n",
       "1    4.204693\n",
       "2    3.465736\n",
       "3    2.484907\n",
       "4    1.386294\n",
       "5    4.276666\n",
       "6    3.295837\n",
       "7    4.477337\n",
       "8    4.543295\n",
       "9    2.302585\n",
       "Name: Gia_tri, dtype: float64"
      ]
     },
     "execution_count": 65,
     "metadata": {},
     "output_type": "execute_result"
    }
   ],
   "source": [
    "#Mã lệnh của bạn\n",
    "import numpy as np\n",
    "np.log(seri)"
   ]
  },
  {
   "cell_type": "markdown",
   "metadata": {},
   "source": [
    "Câu 9: Lọc các giá trị của series 1 > 15 và in ra màn hình"
   ]
  },
  {
   "cell_type": "code",
   "execution_count": 66,
   "metadata": {},
   "outputs": [
    {
     "data": {
      "text/plain": [
       "STT\n",
       "0    45\n",
       "1    67\n",
       "2    32\n",
       "5    72\n",
       "6    27\n",
       "7    88\n",
       "8    94\n",
       "Name: Gia_tri, dtype: int64"
      ]
     },
     "execution_count": 66,
     "metadata": {},
     "output_type": "execute_result"
    }
   ],
   "source": [
    "#Mã lệnh của bạn\n",
    "seri[seri > 15]"
   ]
  },
  {
   "cell_type": "code",
   "execution_count": null,
   "metadata": {},
   "outputs": [],
   "source": []
  }
 ],
 "metadata": {
  "kernelspec": {
   "display_name": "Python 3",
   "language": "python",
   "name": "python3"
  },
  "language_info": {
   "codemirror_mode": {
    "name": "ipython",
    "version": 3
   },
   "file_extension": ".py",
   "mimetype": "text/x-python",
   "name": "python",
   "nbconvert_exporter": "python",
   "pygments_lexer": "ipython3",
   "version": "3.8.5"
  }
 },
 "nbformat": 4,
 "nbformat_minor": 2
}
