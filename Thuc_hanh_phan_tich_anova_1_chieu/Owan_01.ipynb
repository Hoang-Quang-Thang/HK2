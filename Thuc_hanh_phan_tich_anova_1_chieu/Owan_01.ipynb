{
 "cells": [
  {
   "cell_type": "markdown",
   "metadata": {},
   "source": [
    "**Độ sâu khai quật và Khảo cổ học:**\n",
    "\n",
    "Bốn địa điểm khai quật khác nhau tại một khu vực khảo cổ ở New Mexico đã đưa ra những độ sâu sau (cm) cho những \n",
    "khám phá khảo cổ quan trọng.\n",
    "\n",
    "X1 = độ sâu tại vị trí I\n",
    "\n",
    "X2 = độ sâu tại vị trí II\n",
    "\n",
    "X3 = độ sâu tại vị trí III\n",
    "\n",
    "X4 = độ sâu tại vị trí IV"
   ]
  },
  {
   "cell_type": "code",
   "execution_count": 2,
   "metadata": {},
   "outputs": [],
   "source": [
    "import numpy as np\n",
    "import pandas as pd"
   ]
  },
  {
   "cell_type": "code",
   "execution_count": 3,
   "metadata": {},
   "outputs": [
    {
     "name": "stdout",
     "output_type": "stream",
     "text": [
      "*** No CODEPAGE record, no encoding_override: will use 'ascii'\n"
     ]
    },
    {
     "data": {
      "text/html": [
       "<div>\n",
       "<style scoped>\n",
       "    .dataframe tbody tr th:only-of-type {\n",
       "        vertical-align: middle;\n",
       "    }\n",
       "\n",
       "    .dataframe tbody tr th {\n",
       "        vertical-align: top;\n",
       "    }\n",
       "\n",
       "    .dataframe thead th {\n",
       "        text-align: right;\n",
       "    }\n",
       "</style>\n",
       "<table border=\"1\" class=\"dataframe\">\n",
       "  <thead>\n",
       "    <tr style=\"text-align: right;\">\n",
       "      <th></th>\n",
       "      <th>X1</th>\n",
       "      <th>X2</th>\n",
       "      <th>X3</th>\n",
       "      <th>X4</th>\n",
       "    </tr>\n",
       "  </thead>\n",
       "  <tbody>\n",
       "    <tr>\n",
       "      <th>0</th>\n",
       "      <td>93</td>\n",
       "      <td>85.0</td>\n",
       "      <td>100.0</td>\n",
       "      <td>96.0</td>\n",
       "    </tr>\n",
       "    <tr>\n",
       "      <th>1</th>\n",
       "      <td>120</td>\n",
       "      <td>45.0</td>\n",
       "      <td>75.0</td>\n",
       "      <td>58.0</td>\n",
       "    </tr>\n",
       "    <tr>\n",
       "      <th>2</th>\n",
       "      <td>65</td>\n",
       "      <td>80.0</td>\n",
       "      <td>65.0</td>\n",
       "      <td>95.0</td>\n",
       "    </tr>\n",
       "    <tr>\n",
       "      <th>3</th>\n",
       "      <td>105</td>\n",
       "      <td>28.0</td>\n",
       "      <td>40.0</td>\n",
       "      <td>90.0</td>\n",
       "    </tr>\n",
       "    <tr>\n",
       "      <th>4</th>\n",
       "      <td>115</td>\n",
       "      <td>75.0</td>\n",
       "      <td>73.0</td>\n",
       "      <td>65.0</td>\n",
       "    </tr>\n",
       "  </tbody>\n",
       "</table>\n",
       "</div>"
      ],
      "text/plain": [
       "    X1    X2     X3    X4\n",
       "0   93  85.0  100.0  96.0\n",
       "1  120  45.0   75.0  58.0\n",
       "2   65  80.0   65.0  95.0\n",
       "3  105  28.0   40.0  90.0\n",
       "4  115  75.0   73.0  65.0"
      ]
     },
     "execution_count": 3,
     "metadata": {},
     "output_type": "execute_result"
    }
   ],
   "source": [
    "df = pd.read_excel('owan01.xls')\n",
    "df.head()"
   ]
  },
  {
   "cell_type": "code",
   "execution_count": 4,
   "metadata": {},
   "outputs": [
    {
     "data": {
      "text/html": [
       "<div>\n",
       "<style scoped>\n",
       "    .dataframe tbody tr th:only-of-type {\n",
       "        vertical-align: middle;\n",
       "    }\n",
       "\n",
       "    .dataframe tbody tr th {\n",
       "        vertical-align: top;\n",
       "    }\n",
       "\n",
       "    .dataframe thead th {\n",
       "        text-align: right;\n",
       "    }\n",
       "</style>\n",
       "<table border=\"1\" class=\"dataframe\">\n",
       "  <thead>\n",
       "    <tr style=\"text-align: right;\">\n",
       "      <th></th>\n",
       "      <th>number</th>\n",
       "      <th>Depths</th>\n",
       "      <th>Value</th>\n",
       "    </tr>\n",
       "  </thead>\n",
       "  <tbody>\n",
       "    <tr>\n",
       "      <th>0</th>\n",
       "      <td>0</td>\n",
       "      <td>X1</td>\n",
       "      <td>93.0</td>\n",
       "    </tr>\n",
       "    <tr>\n",
       "      <th>1</th>\n",
       "      <td>1</td>\n",
       "      <td>X1</td>\n",
       "      <td>120.0</td>\n",
       "    </tr>\n",
       "    <tr>\n",
       "      <th>2</th>\n",
       "      <td>2</td>\n",
       "      <td>X1</td>\n",
       "      <td>65.0</td>\n",
       "    </tr>\n",
       "    <tr>\n",
       "      <th>3</th>\n",
       "      <td>3</td>\n",
       "      <td>X1</td>\n",
       "      <td>105.0</td>\n",
       "    </tr>\n",
       "    <tr>\n",
       "      <th>4</th>\n",
       "      <td>4</td>\n",
       "      <td>X1</td>\n",
       "      <td>115.0</td>\n",
       "    </tr>\n",
       "  </tbody>\n",
       "</table>\n",
       "</div>"
      ],
      "text/plain": [
       "   number Depths  Value\n",
       "0       0     X1   93.0\n",
       "1       1     X1  120.0\n",
       "2       2     X1   65.0\n",
       "3       3     X1  105.0\n",
       "4       4     X1  115.0"
      ]
     },
     "execution_count": 4,
     "metadata": {},
     "output_type": "execute_result"
    }
   ],
   "source": [
    "df_melt = pd.melt(df.reset_index(), id_vars=['index'], value_vars=['X1', 'X2', 'X3', 'X4'])\n",
    "# replace column names\n",
    "df_melt.columns = ['number', 'Depths', 'Value']\n",
    "df_melt.head()"
   ]
  },
  {
   "cell_type": "code",
   "execution_count": 5,
   "metadata": {},
   "outputs": [
    {
     "data": {
      "text/html": [
       "<div>\n",
       "<style scoped>\n",
       "    .dataframe tbody tr th:only-of-type {\n",
       "        vertical-align: middle;\n",
       "    }\n",
       "\n",
       "    .dataframe tbody tr th {\n",
       "        vertical-align: top;\n",
       "    }\n",
       "\n",
       "    .dataframe thead th {\n",
       "        text-align: right;\n",
       "    }\n",
       "</style>\n",
       "<table border=\"1\" class=\"dataframe\">\n",
       "  <thead>\n",
       "    <tr style=\"text-align: right;\">\n",
       "      <th></th>\n",
       "      <th>Depths</th>\n",
       "      <th>Value</th>\n",
       "    </tr>\n",
       "  </thead>\n",
       "  <tbody>\n",
       "    <tr>\n",
       "      <th>0</th>\n",
       "      <td>Site I</td>\n",
       "      <td>93.0</td>\n",
       "    </tr>\n",
       "    <tr>\n",
       "      <th>1</th>\n",
       "      <td>Site I</td>\n",
       "      <td>120.0</td>\n",
       "    </tr>\n",
       "    <tr>\n",
       "      <th>2</th>\n",
       "      <td>Site I</td>\n",
       "      <td>65.0</td>\n",
       "    </tr>\n",
       "    <tr>\n",
       "      <th>3</th>\n",
       "      <td>Site I</td>\n",
       "      <td>105.0</td>\n",
       "    </tr>\n",
       "    <tr>\n",
       "      <th>4</th>\n",
       "      <td>Site I</td>\n",
       "      <td>115.0</td>\n",
       "    </tr>\n",
       "  </tbody>\n",
       "</table>\n",
       "</div>"
      ],
      "text/plain": [
       "   Depths  Value\n",
       "0  Site I   93.0\n",
       "1  Site I  120.0\n",
       "2  Site I   65.0\n",
       "3  Site I  105.0\n",
       "4  Site I  115.0"
      ]
     },
     "execution_count": 5,
     "metadata": {},
     "output_type": "execute_result"
    }
   ],
   "source": [
    "df_melt.drop('number', axis= 1, inplace= True)\n",
    "fix_df = df_melt.replace({'X1':'Site I', 'X2':'Site II', 'X3':'Site III', 'X4':'Site IV'})\n",
    "X = fix_df.dropna()\n",
    "X.head()"
   ]
  },
  {
   "cell_type": "code",
   "execution_count": 6,
   "metadata": {},
   "outputs": [],
   "source": [
    "X1 = X2 = X3 = X4 = []\n",
    "X1 = X['Value'][X['Depths'] == 'Site I']\n",
    "X2 = X['Value'][X['Depths'] == 'Site II']\n",
    "X3 = X['Value'][X['Depths'] == 'Site III']\n",
    "X4 = X['Value'][X['Depths'] == 'Site IV']"
   ]
  },
  {
   "cell_type": "code",
   "execution_count": 7,
   "metadata": {},
   "outputs": [
    {
     "data": {
      "text/plain": [
       "0      93.0\n",
       "1     120.0\n",
       "2      65.0\n",
       "3     105.0\n",
       "4     115.0\n",
       "5      82.0\n",
       "6      99.0\n",
       "7      87.0\n",
       "8     100.0\n",
       "9      90.0\n",
       "10     78.0\n",
       "11     95.0\n",
       "12     93.0\n",
       "13     88.0\n",
       "14    110.0\n",
       "Name: Value, dtype: float64"
      ]
     },
     "execution_count": 7,
     "metadata": {},
     "output_type": "execute_result"
    }
   ],
   "source": [
    "X1"
   ]
  },
  {
   "cell_type": "code",
   "execution_count": 8,
   "metadata": {},
   "outputs": [
    {
     "data": {
      "text/plain": [
       "15    85.0\n",
       "16    45.0\n",
       "17    80.0\n",
       "18    28.0\n",
       "19    75.0\n",
       "20    70.0\n",
       "21    65.0\n",
       "22    55.0\n",
       "23    50.0\n",
       "24    40.0\n",
       "Name: Value, dtype: float64"
      ]
     },
     "execution_count": 8,
     "metadata": {},
     "output_type": "execute_result"
    }
   ],
   "source": [
    "X2"
   ]
  },
  {
   "cell_type": "code",
   "execution_count": 9,
   "metadata": {},
   "outputs": [
    {
     "data": {
      "text/plain": [
       "30    100.0\n",
       "31     75.0\n",
       "32     65.0\n",
       "33     40.0\n",
       "34     73.0\n",
       "35     65.0\n",
       "36     50.0\n",
       "37     30.0\n",
       "38     45.0\n",
       "39     50.0\n",
       "40     45.0\n",
       "41     55.0\n",
       "Name: Value, dtype: float64"
      ]
     },
     "execution_count": 9,
     "metadata": {},
     "output_type": "execute_result"
    }
   ],
   "source": [
    "X3"
   ]
  },
  {
   "cell_type": "code",
   "execution_count": 10,
   "metadata": {},
   "outputs": [
    {
     "data": {
      "text/plain": [
       "45    96.0\n",
       "46    58.0\n",
       "47    95.0\n",
       "48    90.0\n",
       "49    65.0\n",
       "50    80.0\n",
       "51    85.0\n",
       "52    95.0\n",
       "53    82.0\n",
       "Name: Value, dtype: float64"
      ]
     },
     "execution_count": 10,
     "metadata": {},
     "output_type": "execute_result"
    }
   ],
   "source": [
    "X4"
   ]
  },
  {
   "cell_type": "markdown",
   "metadata": {},
   "source": [
    "**Kiểm định Shapiro-Wilk:**\n",
    "\n",
    "H0: Dữ liệu mẫu tuân theo phân phối chuẩn\n",
    "\n",
    "Ha: Có tối thiểu 1 dữ liệu mẫu không tuân theo phân phối chuẩn"
   ]
  },
  {
   "cell_type": "code",
   "execution_count": 20,
   "metadata": {},
   "outputs": [
    {
     "name": "stdout",
     "output_type": "stream",
     "text": [
      "0.9960364103317261\n",
      "Chưa có đủ bằng chứng thống kê để bác bỏ giả thuyết H0. Điều này ngụ ý ta chấp nhận giả thuyết H0 \n",
      "--------------------------------------------------\n",
      "0.864689826965332\n",
      "Chưa có đủ bằng chứng thống kê để bác bỏ giả thuyết H0. Điều này ngụ ý ta chấp nhận giả thuyết H0 \n",
      "--------------------------------------------------\n",
      "0.601704478263855\n",
      "Chưa có đủ bằng chứng thống kê để bác bỏ giả thuyết H0. Điều này ngụ ý ta chấp nhận giả thuyết H0 \n",
      "--------------------------------------------------\n",
      "0.13579683005809784\n",
      "Chưa có đủ bằng chứng thống kê để bác bỏ giả thuyết H0. Điều này ngụ ý ta chấp nhận giả thuyết H0 \n",
      "--------------------------------------------------\n"
     ]
    }
   ],
   "source": [
    "# Kiểm tra các mẫu có tuân theo phân phối chuẩn không\n",
    "from scipy import stats\n",
    "def shapiro_test(data):\n",
    "    p_value = stats.shapiro(data)[1]\n",
    "    print(p_value)\n",
    "    if p_value < 0.05:\n",
    "        print('Có đủ bằng chứng thống kê để bác bỏ giả thuyết H0. Điều này ngụ ý ta chấp nhận giả thuyết Ha')\n",
    "        print('Vì ta chấp nhận giả thuyết Ha nên ta không thực hiện kiểm định Anova 1 chiều')\n",
    "    else:\n",
    "        print('Chưa có đủ bằng chứng thống kê để bác bỏ giả thuyết H0. Điều này ngụ ý ta chấp nhận giả thuyết H0 ')\n",
    "    print('-'*50)\n",
    "shapiro_test(X1)\n",
    "shapiro_test(X2)\n",
    "shapiro_test(X3)\n",
    "shapiro_test(X4)"
   ]
  },
  {
   "cell_type": "markdown",
   "metadata": {},
   "source": [
    "**Kiểm định Levene:**\n",
    "\n",
    "H0: Phương sai của các mẫu bằng nhau\n",
    "\n",
    "Ha: Có tối thiểu 1 cặp phương sai của các mẫu không bằng nhau"
   ]
  },
  {
   "cell_type": "code",
   "execution_count": 21,
   "metadata": {},
   "outputs": [
    {
     "name": "stdout",
     "output_type": "stream",
     "text": [
      "0.5020818274234007\n",
      "--------------------------------------------------\n",
      "Chưa có đủ bằng chứng thống kê để bác bỏ giả thuyết H0. Điều này ngụ ý rằng ta chấp nhận giả thuyết H0\n"
     ]
    }
   ],
   "source": [
    "# Kiểm tra các mẫu có cùng phương sai không\n",
    "from scipy.stats import levene\n",
    "p_value = levene(X1, X2, X3, X4)[1]\n",
    "print(p_value)\n",
    "print('-'*50)\n",
    "if p_value < 0.05:\n",
    "    print('Có đủ bằng chứng thống kê để bác bỏ giả thuyết H0. Điều này ngụ ý rằng ta chấp nhận giả thuyết Ha')\n",
    "    print('Vì ta chấp nhận giả thuyết Ha nên ta không thực hiện kiểm định Anova 1 chiều')\n",
    "else:\n",
    "    print('Chưa có đủ bằng chứng thống kê để bác bỏ giả thuyết H0. Điều này ngụ ý rằng ta chấp nhận giả thuyết H0')"
   ]
  },
  {
   "cell_type": "markdown",
   "metadata": {},
   "source": [
    "**Kiểm định ANOVA:**\n",
    "\n",
    "H0: X1 = X2 = X3 = X4\n",
    "\n",
    "Ha: Có tối thiểu một cặp giá trị trung bình có giá trị khác nhau"
   ]
  },
  {
   "cell_type": "code",
   "execution_count": 22,
   "metadata": {},
   "outputs": [
    {
     "name": "stdout",
     "output_type": "stream",
     "text": [
      "7.99057539367343e-07\n",
      "Có đủ bằng chứng thống kê để bác bỏ giả thuyết H0. Điều này ngụ ý rằng ta chấp nhận giả thuyết Ha\n"
     ]
    }
   ],
   "source": [
    "import scipy.stats as stats\n",
    "\n",
    "p_value = stats.f_oneway(X1, X2, X3, X4)[1]\n",
    "print(p_value)\n",
    "if p_value < 0.05:\n",
    "    print('Có đủ bằng chứng thống kê để bác bỏ giả thuyết H0. Điều này ngụ ý rằng ta chấp nhận giả thuyết Ha')\n",
    "else:\n",
    "    print('Chưa có đủ bằng chứng thống kê để bác bỏ giả thuyết H0. Điều này ngụ ý rằng ta chấp nhận giả thuyết H0')"
   ]
  },
  {
   "cell_type": "code",
   "execution_count": null,
   "metadata": {},
   "outputs": [],
   "source": []
  }
 ],
 "metadata": {
  "kernelspec": {
   "display_name": "Python 3",
   "language": "python",
   "name": "python3"
  },
  "language_info": {
   "codemirror_mode": {
    "name": "ipython",
    "version": 3
   },
   "file_extension": ".py",
   "mimetype": "text/x-python",
   "name": "python",
   "nbconvert_exporter": "python",
   "pygments_lexer": "ipython3",
   "version": "3.8.5"
  }
 },
 "nbformat": 4,
 "nbformat_minor": 4
}
