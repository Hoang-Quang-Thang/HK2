{
 "cells": [
  {
   "cell_type": "markdown",
   "metadata": {},
   "source": [
    "Thuốc nhuộm đỏ Số 40\n",
    "\n",
    "S.W. Laagakos và F. Mosteller của Đại học Harvard cho chuột ăn các liều thuốc nhuộm đỏ số 40 khác nhau và ghi lại thời gian chết trong nhiều tuần. Kết quả đối với chuột cái, liều lượng và thời gian chết được thể hiện trong dữ liệu.\n",
    "\n",
    "X1 = thời gian chết của nhóm khống chế được\n",
    "\n",
    "X2 = thời gian chết của nhóm dùng liều thấp\n",
    "\n",
    "X3 = thời gian chết của nhóm dùng liều trung bình\n",
    "\n",
    "X4 = thời gian chết của nhóm với liều lượng cao"
   ]
  },
  {
   "cell_type": "code",
   "execution_count": 1,
   "metadata": {},
   "outputs": [],
   "source": [
    "import numpy as np\n",
    "import pandas as pd"
   ]
  },
  {
   "cell_type": "code",
   "execution_count": 2,
   "metadata": {},
   "outputs": [
    {
     "name": "stdout",
     "output_type": "stream",
     "text": [
      "*** No CODEPAGE record, no encoding_override: will use 'ascii'\n"
     ]
    },
    {
     "data": {
      "text/html": [
       "<div>\n",
       "<style scoped>\n",
       "    .dataframe tbody tr th:only-of-type {\n",
       "        vertical-align: middle;\n",
       "    }\n",
       "\n",
       "    .dataframe tbody tr th {\n",
       "        vertical-align: top;\n",
       "    }\n",
       "\n",
       "    .dataframe thead th {\n",
       "        text-align: right;\n",
       "    }\n",
       "</style>\n",
       "<table border=\"1\" class=\"dataframe\">\n",
       "  <thead>\n",
       "    <tr style=\"text-align: right;\">\n",
       "      <th></th>\n",
       "      <th>X1</th>\n",
       "      <th>X2</th>\n",
       "      <th>X3</th>\n",
       "      <th>X4</th>\n",
       "    </tr>\n",
       "  </thead>\n",
       "  <tbody>\n",
       "    <tr>\n",
       "      <th>0</th>\n",
       "      <td>70</td>\n",
       "      <td>49.0</td>\n",
       "      <td>30.0</td>\n",
       "      <td>34.0</td>\n",
       "    </tr>\n",
       "    <tr>\n",
       "      <th>1</th>\n",
       "      <td>77</td>\n",
       "      <td>60.0</td>\n",
       "      <td>37.0</td>\n",
       "      <td>36.0</td>\n",
       "    </tr>\n",
       "    <tr>\n",
       "      <th>2</th>\n",
       "      <td>83</td>\n",
       "      <td>63.0</td>\n",
       "      <td>56.0</td>\n",
       "      <td>48.0</td>\n",
       "    </tr>\n",
       "    <tr>\n",
       "      <th>3</th>\n",
       "      <td>87</td>\n",
       "      <td>67.0</td>\n",
       "      <td>65.0</td>\n",
       "      <td>48.0</td>\n",
       "    </tr>\n",
       "    <tr>\n",
       "      <th>4</th>\n",
       "      <td>92</td>\n",
       "      <td>70.0</td>\n",
       "      <td>76.0</td>\n",
       "      <td>65.0</td>\n",
       "    </tr>\n",
       "  </tbody>\n",
       "</table>\n",
       "</div>"
      ],
      "text/plain": [
       "   X1    X2    X3    X4\n",
       "0  70  49.0  30.0  34.0\n",
       "1  77  60.0  37.0  36.0\n",
       "2  83  63.0  56.0  48.0\n",
       "3  87  67.0  65.0  48.0\n",
       "4  92  70.0  76.0  65.0"
      ]
     },
     "execution_count": 2,
     "metadata": {},
     "output_type": "execute_result"
    }
   ],
   "source": [
    "df = pd.read_excel('owan03.xls')\n",
    "df.head()"
   ]
  },
  {
   "cell_type": "code",
   "execution_count": 3,
   "metadata": {},
   "outputs": [
    {
     "data": {
      "text/html": [
       "<div>\n",
       "<style scoped>\n",
       "    .dataframe tbody tr th:only-of-type {\n",
       "        vertical-align: middle;\n",
       "    }\n",
       "\n",
       "    .dataframe tbody tr th {\n",
       "        vertical-align: top;\n",
       "    }\n",
       "\n",
       "    .dataframe thead th {\n",
       "        text-align: right;\n",
       "    }\n",
       "</style>\n",
       "<table border=\"1\" class=\"dataframe\">\n",
       "  <thead>\n",
       "    <tr style=\"text-align: right;\">\n",
       "      <th></th>\n",
       "      <th>number</th>\n",
       "      <th>Time of death</th>\n",
       "      <th>Value</th>\n",
       "    </tr>\n",
       "  </thead>\n",
       "  <tbody>\n",
       "    <tr>\n",
       "      <th>0</th>\n",
       "      <td>0</td>\n",
       "      <td>X1</td>\n",
       "      <td>70.0</td>\n",
       "    </tr>\n",
       "    <tr>\n",
       "      <th>1</th>\n",
       "      <td>1</td>\n",
       "      <td>X1</td>\n",
       "      <td>77.0</td>\n",
       "    </tr>\n",
       "    <tr>\n",
       "      <th>2</th>\n",
       "      <td>2</td>\n",
       "      <td>X1</td>\n",
       "      <td>83.0</td>\n",
       "    </tr>\n",
       "    <tr>\n",
       "      <th>3</th>\n",
       "      <td>3</td>\n",
       "      <td>X1</td>\n",
       "      <td>87.0</td>\n",
       "    </tr>\n",
       "    <tr>\n",
       "      <th>4</th>\n",
       "      <td>4</td>\n",
       "      <td>X1</td>\n",
       "      <td>92.0</td>\n",
       "    </tr>\n",
       "  </tbody>\n",
       "</table>\n",
       "</div>"
      ],
      "text/plain": [
       "   number Time of death  Value\n",
       "0       0            X1   70.0\n",
       "1       1            X1   77.0\n",
       "2       2            X1   83.0\n",
       "3       3            X1   87.0\n",
       "4       4            X1   92.0"
      ]
     },
     "execution_count": 3,
     "metadata": {},
     "output_type": "execute_result"
    }
   ],
   "source": [
    "df_melt = pd.melt(df.reset_index(), id_vars=['index'], value_vars=['X1', 'X2', 'X3', 'X4'])\n",
    "# replace column names\n",
    "df_melt.columns = ['number', 'Time of death', 'Value']\n",
    "df_melt.head()"
   ]
  },
  {
   "cell_type": "code",
   "execution_count": 4,
   "metadata": {},
   "outputs": [
    {
     "data": {
      "text/html": [
       "<div>\n",
       "<style scoped>\n",
       "    .dataframe tbody tr th:only-of-type {\n",
       "        vertical-align: middle;\n",
       "    }\n",
       "\n",
       "    .dataframe tbody tr th {\n",
       "        vertical-align: top;\n",
       "    }\n",
       "\n",
       "    .dataframe thead th {\n",
       "        text-align: right;\n",
       "    }\n",
       "</style>\n",
       "<table border=\"1\" class=\"dataframe\">\n",
       "  <thead>\n",
       "    <tr style=\"text-align: right;\">\n",
       "      <th></th>\n",
       "      <th>Time of death</th>\n",
       "      <th>Value</th>\n",
       "    </tr>\n",
       "  </thead>\n",
       "  <tbody>\n",
       "    <tr>\n",
       "      <th>0</th>\n",
       "      <td>control group</td>\n",
       "      <td>70.0</td>\n",
       "    </tr>\n",
       "    <tr>\n",
       "      <th>1</th>\n",
       "      <td>control group</td>\n",
       "      <td>77.0</td>\n",
       "    </tr>\n",
       "    <tr>\n",
       "      <th>2</th>\n",
       "      <td>control group</td>\n",
       "      <td>83.0</td>\n",
       "    </tr>\n",
       "    <tr>\n",
       "      <th>3</th>\n",
       "      <td>control group</td>\n",
       "      <td>87.0</td>\n",
       "    </tr>\n",
       "    <tr>\n",
       "      <th>4</th>\n",
       "      <td>control group</td>\n",
       "      <td>92.0</td>\n",
       "    </tr>\n",
       "  </tbody>\n",
       "</table>\n",
       "</div>"
      ],
      "text/plain": [
       "   Time of death  Value\n",
       "0  control group   70.0\n",
       "1  control group   77.0\n",
       "2  control group   83.0\n",
       "3  control group   87.0\n",
       "4  control group   92.0"
      ]
     },
     "execution_count": 4,
     "metadata": {},
     "output_type": "execute_result"
    }
   ],
   "source": [
    "df_melt.drop('number', axis= 1, inplace= True)\n",
    "fix_df = df_melt.replace({'X1':'control group', 'X2':'group with low dosage', 'X3':'group with medium dosage', \n",
    "                          'X4':'group with high dosage'})\n",
    "X = fix_df.dropna()\n",
    "X.head()"
   ]
  },
  {
   "cell_type": "code",
   "execution_count": 5,
   "metadata": {},
   "outputs": [],
   "source": [
    "X1 = X2 = X3 = X4 = []\n",
    "X1 = X['Value'][X['Time of death'] == 'control group']\n",
    "X2 = X['Value'][X['Time of death'] == 'group with low dosage']\n",
    "X3 = X['Value'][X['Time of death'] == 'group with medium dosage']\n",
    "X4 = X['Value'][X['Time of death'] == 'group with high dosage']"
   ]
  },
  {
   "cell_type": "code",
   "execution_count": 6,
   "metadata": {},
   "outputs": [
    {
     "data": {
      "text/plain": [
       "0      70.0\n",
       "1      77.0\n",
       "2      83.0\n",
       "3      87.0\n",
       "4      92.0\n",
       "5      93.0\n",
       "6     100.0\n",
       "7     102.0\n",
       "8     102.0\n",
       "9     103.0\n",
       "10     96.0\n",
       "Name: Value, dtype: float64"
      ]
     },
     "execution_count": 6,
     "metadata": {},
     "output_type": "execute_result"
    }
   ],
   "source": [
    "X1"
   ]
  },
  {
   "cell_type": "code",
   "execution_count": 7,
   "metadata": {},
   "outputs": [
    {
     "data": {
      "text/plain": [
       "11    49.0\n",
       "12    60.0\n",
       "13    63.0\n",
       "14    67.0\n",
       "15    70.0\n",
       "16    74.0\n",
       "17    77.0\n",
       "18    80.0\n",
       "19    89.0\n",
       "Name: Value, dtype: float64"
      ]
     },
     "execution_count": 7,
     "metadata": {},
     "output_type": "execute_result"
    }
   ],
   "source": [
    "X2"
   ]
  },
  {
   "cell_type": "code",
   "execution_count": 8,
   "metadata": {},
   "outputs": [
    {
     "data": {
      "text/plain": [
       "22    30.0\n",
       "23    37.0\n",
       "24    56.0\n",
       "25    65.0\n",
       "26    76.0\n",
       "27    83.0\n",
       "28    87.0\n",
       "29    90.0\n",
       "30    94.0\n",
       "31    97.0\n",
       "Name: Value, dtype: float64"
      ]
     },
     "execution_count": 8,
     "metadata": {},
     "output_type": "execute_result"
    }
   ],
   "source": [
    "X3"
   ]
  },
  {
   "cell_type": "code",
   "execution_count": 9,
   "metadata": {},
   "outputs": [
    {
     "data": {
      "text/plain": [
       "33     34.0\n",
       "34     36.0\n",
       "35     48.0\n",
       "36     48.0\n",
       "37     65.0\n",
       "38     91.0\n",
       "39     98.0\n",
       "40    102.0\n",
       "Name: Value, dtype: float64"
      ]
     },
     "execution_count": 9,
     "metadata": {},
     "output_type": "execute_result"
    }
   ],
   "source": [
    "X4"
   ]
  },
  {
   "cell_type": "markdown",
   "metadata": {},
   "source": [
    "**Kiểm định Shapiro-Wilk:**\n",
    "\n",
    "H0: Dữ liệu mẫu tuân theo phân phối chuẩn\n",
    "\n",
    "Ha: Có tối thiểu 1 dữ liệu mẫu không tuân theo phân phối chuẩn"
   ]
  },
  {
   "cell_type": "code",
   "execution_count": 13,
   "metadata": {},
   "outputs": [
    {
     "name": "stdout",
     "output_type": "stream",
     "text": [
      "0.23906797170639038\n",
      "Chưa có đủ bằng chứng thống kê để bác bỏ giả thuyết H0. Điều này ngụ ý ta chấp nhận giả thuyết H0 \n",
      "--------------------------------------------------\n",
      "0.9998751282691956\n",
      "Chưa có đủ bằng chứng thống kê để bác bỏ giả thuyết H0. Điều này ngụ ý ta chấp nhận giả thuyết H0 \n",
      "--------------------------------------------------\n",
      "0.19140109419822693\n",
      "Chưa có đủ bằng chứng thống kê để bác bỏ giả thuyết H0. Điều này ngụ ý ta chấp nhận giả thuyết H0 \n",
      "--------------------------------------------------\n",
      "0.14956821501255035\n",
      "Chưa có đủ bằng chứng thống kê để bác bỏ giả thuyết H0. Điều này ngụ ý ta chấp nhận giả thuyết H0 \n",
      "--------------------------------------------------\n"
     ]
    }
   ],
   "source": [
    "# Kiểm tra các mẫu có tuân theo phân phối chuẩn không\n",
    "from scipy import stats\n",
    "def shapiro_test(data):\n",
    "    p_value = stats.shapiro(data)[1]\n",
    "    print(p_value)\n",
    "    if p_value < 0.05:\n",
    "        print('Có đủ bằng chứng thống kê để bác bỏ giả thuyết H0. Điều này ngụ ý ta chấp nhận giả thuyết Ha')\n",
    "        print('Vì ta chấp nhận giả thuyết Ha nên ta không thực hiện kiểm định Anova 1 chiều')\n",
    "    else:\n",
    "        print('Chưa có đủ bằng chứng thống kê để bác bỏ giả thuyết H0. Điều này ngụ ý ta chấp nhận giả thuyết H0 ')\n",
    "    print('-'*50)\n",
    "shapiro_test(X1)\n",
    "shapiro_test(X2)\n",
    "shapiro_test(X3)\n",
    "shapiro_test(X4)"
   ]
  },
  {
   "cell_type": "markdown",
   "metadata": {},
   "source": [
    "**Kiểm định Levene:**\n",
    "\n",
    "H0: Phương sai của các mẫu bằng nhau\n",
    "\n",
    "Ha: Có tối thiểu 1 cặp phương sai của các mẫu không bằng nhau"
   ]
  },
  {
   "cell_type": "code",
   "execution_count": 14,
   "metadata": {},
   "outputs": [
    {
     "name": "stdout",
     "output_type": "stream",
     "text": [
      "0.02110640000655371\n",
      "--------------------------------------------------\n",
      "Có đủ bằng chứng thống kê để bác bỏ giả thuyết H0. Điều này ngụ ý rằng ta chấp nhận giả thuyết Ha\n",
      "Vì ta chấp nhận giả thuyết Ha nên ta không thực hiện kiểm định Anova 1 chiều\n"
     ]
    }
   ],
   "source": [
    "# Kiểm tra các mẫu có cùng phương sai không\n",
    "from scipy.stats import levene\n",
    "p_value = levene(X1, X2, X3, X4)[1]\n",
    "print(p_value)\n",
    "print('-'*50)\n",
    "if p_value < 0.05:\n",
    "    print('Có đủ bằng chứng thống kê để bác bỏ giả thuyết H0. Điều này ngụ ý rằng ta chấp nhận giả thuyết Ha')\n",
    "    print('Vì ta chấp nhận giả thuyết Ha nên ta không thực hiện kiểm định Anova 1 chiều')\n",
    "else:\n",
    "    print('Chưa có đủ bằng chứng thống kê để bác bỏ giả thuyết H0. Điều này ngụ ý rằng ta chấp nhận giả thuyết H0')"
   ]
  },
  {
   "cell_type": "code",
   "execution_count": null,
   "metadata": {},
   "outputs": [],
   "source": []
  }
 ],
 "metadata": {
  "kernelspec": {
   "display_name": "Python 3",
   "language": "python",
   "name": "python3"
  },
  "language_info": {
   "codemirror_mode": {
    "name": "ipython",
    "version": 3
   },
   "file_extension": ".py",
   "mimetype": "text/x-python",
   "name": "python",
   "nbconvert_exporter": "python",
   "pygments_lexer": "ipython3",
   "version": "3.8.5"
  }
 },
 "nbformat": 4,
 "nbformat_minor": 4
}
