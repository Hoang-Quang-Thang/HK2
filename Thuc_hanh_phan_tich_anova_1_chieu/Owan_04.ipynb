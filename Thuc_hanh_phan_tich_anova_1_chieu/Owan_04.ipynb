{
 "cells": [
  {
   "cell_type": "code",
   "execution_count": null,
   "metadata": {},
   "outputs": [],
   "source": [
    "Chi phí khởi sự kinh doanh\n",
    "\n",
    "Dữ liệu sau đây trình bày chi phí khởi động kinh doanh (hàng nghìn đô la) cho các cửa hàng.\n",
    "\n",
    "X1 = chi phí khởi động cho cửa hàng pizza\n",
    "X2 = chi phí khởi động cho cửa hàng làm bánh / bánh rán\n",
    "X3 = chi phí khởi động cho cửa hàng giày\n",
    "X4 = chi phí khởi động cho cửa hàng quà tặng\n",
    "X5 = chi phí khởi động cho cửa hàng thú cưng"
   ]
  },
  {
   "cell_type": "code",
   "execution_count": null,
   "metadata": {},
   "outputs": [],
   "source": [
    "Xây dựng giả thuyết:\n",
    "    \n",
    "H0: X1 = X2 = X3 = X4 = X5\n",
    "Ha: Có tối thiểu một cặp giá trị trung bình có giá trị khác nhau"
   ]
  },
  {
   "cell_type": "code",
   "execution_count": 22,
   "metadata": {},
   "outputs": [],
   "source": [
    "import numpy as np\n",
    "import pandas as pd"
   ]
  },
  {
   "cell_type": "code",
   "execution_count": 38,
   "metadata": {},
   "outputs": [
    {
     "name": "stdout",
     "output_type": "stream",
     "text": [
      "*** No CODEPAGE record, no encoding_override: will use 'ascii'\n"
     ]
    },
    {
     "data": {
      "text/html": [
       "<div>\n",
       "<style scoped>\n",
       "    .dataframe tbody tr th:only-of-type {\n",
       "        vertical-align: middle;\n",
       "    }\n",
       "\n",
       "    .dataframe tbody tr th {\n",
       "        vertical-align: top;\n",
       "    }\n",
       "\n",
       "    .dataframe thead th {\n",
       "        text-align: right;\n",
       "    }\n",
       "</style>\n",
       "<table border=\"1\" class=\"dataframe\">\n",
       "  <thead>\n",
       "    <tr style=\"text-align: right;\">\n",
       "      <th></th>\n",
       "      <th>X1</th>\n",
       "      <th>X2</th>\n",
       "      <th>X3</th>\n",
       "      <th>X4</th>\n",
       "      <th>X5</th>\n",
       "    </tr>\n",
       "  </thead>\n",
       "  <tbody>\n",
       "    <tr>\n",
       "      <th>0</th>\n",
       "      <td>80.0</td>\n",
       "      <td>150.0</td>\n",
       "      <td>48.0</td>\n",
       "      <td>100.0</td>\n",
       "      <td>25</td>\n",
       "    </tr>\n",
       "    <tr>\n",
       "      <th>1</th>\n",
       "      <td>125.0</td>\n",
       "      <td>40.0</td>\n",
       "      <td>35.0</td>\n",
       "      <td>96.0</td>\n",
       "      <td>80</td>\n",
       "    </tr>\n",
       "    <tr>\n",
       "      <th>2</th>\n",
       "      <td>35.0</td>\n",
       "      <td>120.0</td>\n",
       "      <td>95.0</td>\n",
       "      <td>35.0</td>\n",
       "      <td>30</td>\n",
       "    </tr>\n",
       "    <tr>\n",
       "      <th>3</th>\n",
       "      <td>58.0</td>\n",
       "      <td>75.0</td>\n",
       "      <td>45.0</td>\n",
       "      <td>99.0</td>\n",
       "      <td>35</td>\n",
       "    </tr>\n",
       "    <tr>\n",
       "      <th>4</th>\n",
       "      <td>110.0</td>\n",
       "      <td>160.0</td>\n",
       "      <td>75.0</td>\n",
       "      <td>75.0</td>\n",
       "      <td>30</td>\n",
       "    </tr>\n",
       "  </tbody>\n",
       "</table>\n",
       "</div>"
      ],
      "text/plain": [
       "      X1     X2    X3     X4  X5\n",
       "0   80.0  150.0  48.0  100.0  25\n",
       "1  125.0   40.0  35.0   96.0  80\n",
       "2   35.0  120.0  95.0   35.0  30\n",
       "3   58.0   75.0  45.0   99.0  35\n",
       "4  110.0  160.0  75.0   75.0  30"
      ]
     },
     "execution_count": 38,
     "metadata": {},
     "output_type": "execute_result"
    }
   ],
   "source": [
    "df = pd.read_excel('owan04.xls')\n",
    "df.head()"
   ]
  },
  {
   "cell_type": "code",
   "execution_count": 39,
   "metadata": {},
   "outputs": [
    {
     "data": {
      "text/html": [
       "<div>\n",
       "<style scoped>\n",
       "    .dataframe tbody tr th:only-of-type {\n",
       "        vertical-align: middle;\n",
       "    }\n",
       "\n",
       "    .dataframe tbody tr th {\n",
       "        vertical-align: top;\n",
       "    }\n",
       "\n",
       "    .dataframe thead th {\n",
       "        text-align: right;\n",
       "    }\n",
       "</style>\n",
       "<table border=\"1\" class=\"dataframe\">\n",
       "  <thead>\n",
       "    <tr style=\"text-align: right;\">\n",
       "      <th></th>\n",
       "      <th>number</th>\n",
       "      <th>Startup costs</th>\n",
       "      <th>Value</th>\n",
       "    </tr>\n",
       "  </thead>\n",
       "  <tbody>\n",
       "    <tr>\n",
       "      <th>0</th>\n",
       "      <td>0</td>\n",
       "      <td>X1</td>\n",
       "      <td>80.0</td>\n",
       "    </tr>\n",
       "    <tr>\n",
       "      <th>1</th>\n",
       "      <td>1</td>\n",
       "      <td>X1</td>\n",
       "      <td>125.0</td>\n",
       "    </tr>\n",
       "    <tr>\n",
       "      <th>2</th>\n",
       "      <td>2</td>\n",
       "      <td>X1</td>\n",
       "      <td>35.0</td>\n",
       "    </tr>\n",
       "    <tr>\n",
       "      <th>3</th>\n",
       "      <td>3</td>\n",
       "      <td>X1</td>\n",
       "      <td>58.0</td>\n",
       "    </tr>\n",
       "    <tr>\n",
       "      <th>4</th>\n",
       "      <td>4</td>\n",
       "      <td>X1</td>\n",
       "      <td>110.0</td>\n",
       "    </tr>\n",
       "  </tbody>\n",
       "</table>\n",
       "</div>"
      ],
      "text/plain": [
       "   number Startup costs  Value\n",
       "0       0            X1   80.0\n",
       "1       1            X1  125.0\n",
       "2       2            X1   35.0\n",
       "3       3            X1   58.0\n",
       "4       4            X1  110.0"
      ]
     },
     "execution_count": 39,
     "metadata": {},
     "output_type": "execute_result"
    }
   ],
   "source": [
    "df_melt = pd.melt(df.reset_index(), id_vars=['index'], value_vars=['X1', 'X2', 'X3', 'X4','X5'])\n",
    "# replace column names\n",
    "df_melt.columns = ['number', 'Startup costs', 'Value']\n",
    "df_melt.head()"
   ]
  },
  {
   "cell_type": "code",
   "execution_count": 40,
   "metadata": {},
   "outputs": [
    {
     "data": {
      "text/html": [
       "<div>\n",
       "<style scoped>\n",
       "    .dataframe tbody tr th:only-of-type {\n",
       "        vertical-align: middle;\n",
       "    }\n",
       "\n",
       "    .dataframe tbody tr th {\n",
       "        vertical-align: top;\n",
       "    }\n",
       "\n",
       "    .dataframe thead th {\n",
       "        text-align: right;\n",
       "    }\n",
       "</style>\n",
       "<table border=\"1\" class=\"dataframe\">\n",
       "  <thead>\n",
       "    <tr style=\"text-align: right;\">\n",
       "      <th></th>\n",
       "      <th>Startup costs</th>\n",
       "      <th>Value</th>\n",
       "    </tr>\n",
       "  </thead>\n",
       "  <tbody>\n",
       "    <tr>\n",
       "      <th>0</th>\n",
       "      <td>Pizza</td>\n",
       "      <td>80.0</td>\n",
       "    </tr>\n",
       "    <tr>\n",
       "      <th>1</th>\n",
       "      <td>Pizza</td>\n",
       "      <td>125.0</td>\n",
       "    </tr>\n",
       "    <tr>\n",
       "      <th>2</th>\n",
       "      <td>Pizza</td>\n",
       "      <td>35.0</td>\n",
       "    </tr>\n",
       "    <tr>\n",
       "      <th>3</th>\n",
       "      <td>Pizza</td>\n",
       "      <td>58.0</td>\n",
       "    </tr>\n",
       "    <tr>\n",
       "      <th>4</th>\n",
       "      <td>Pizza</td>\n",
       "      <td>110.0</td>\n",
       "    </tr>\n",
       "  </tbody>\n",
       "</table>\n",
       "</div>"
      ],
      "text/plain": [
       "  Startup costs  Value\n",
       "0         Pizza   80.0\n",
       "1         Pizza  125.0\n",
       "2         Pizza   35.0\n",
       "3         Pizza   58.0\n",
       "4         Pizza  110.0"
      ]
     },
     "execution_count": 40,
     "metadata": {},
     "output_type": "execute_result"
    }
   ],
   "source": [
    "df_melt.drop('number', axis= 1, inplace= True)\n",
    "fix_df = df_melt.replace({'X1':'Pizza', 'X2':'Baker/Donuts', 'X3':'Shoe stores', 'X4':'Gift shops', 'X5':'Pet stores'})\n",
    "X = fix_df.dropna()\n",
    "X.head()"
   ]
  },
  {
   "cell_type": "code",
   "execution_count": 41,
   "metadata": {},
   "outputs": [],
   "source": [
    "X1 = X2 = X3 = X4 = X5 = []\n",
    "X1 = X['Value'][X['Startup costs'] == 'Pizza']\n",
    "X2 = X['Value'][X['Startup costs'] == 'Baker/Donuts']\n",
    "X3 = X['Value'][X['Startup costs'] == 'Shoe stores']\n",
    "X4 = X['Value'][X['Startup costs'] == 'Gift shops']\n",
    "X5 = X['Value'][X['Startup costs'] == 'Pet stores']"
   ]
  },
  {
   "cell_type": "code",
   "execution_count": 42,
   "metadata": {},
   "outputs": [
    {
     "data": {
      "text/plain": [
       "0      80.0\n",
       "1     125.0\n",
       "2      35.0\n",
       "3      58.0\n",
       "4     110.0\n",
       "5     140.0\n",
       "6      97.0\n",
       "7      50.0\n",
       "8      65.0\n",
       "9      79.0\n",
       "10     35.0\n",
       "11     85.0\n",
       "12    120.0\n",
       "Name: Value, dtype: float64"
      ]
     },
     "execution_count": 42,
     "metadata": {},
     "output_type": "execute_result"
    }
   ],
   "source": [
    "X1"
   ]
  },
  {
   "cell_type": "code",
   "execution_count": 43,
   "metadata": {},
   "outputs": [
    {
     "data": {
      "text/plain": [
       "16    150.0\n",
       "17     40.0\n",
       "18    120.0\n",
       "19     75.0\n",
       "20    160.0\n",
       "21     60.0\n",
       "22     45.0\n",
       "23    100.0\n",
       "24     86.0\n",
       "25     87.0\n",
       "26     90.0\n",
       "Name: Value, dtype: float64"
      ]
     },
     "execution_count": 43,
     "metadata": {},
     "output_type": "execute_result"
    }
   ],
   "source": [
    "X2"
   ]
  },
  {
   "cell_type": "code",
   "execution_count": 44,
   "metadata": {},
   "outputs": [
    {
     "data": {
      "text/plain": [
       "32     48.0\n",
       "33     35.0\n",
       "34     95.0\n",
       "35     45.0\n",
       "36     75.0\n",
       "37    115.0\n",
       "38     42.0\n",
       "39     78.0\n",
       "40     65.0\n",
       "41    125.0\n",
       "Name: Value, dtype: float64"
      ]
     },
     "execution_count": 44,
     "metadata": {},
     "output_type": "execute_result"
    }
   ],
   "source": [
    "X3"
   ]
  },
  {
   "cell_type": "code",
   "execution_count": 45,
   "metadata": {},
   "outputs": [
    {
     "data": {
      "text/plain": [
       "48    100.0\n",
       "49     96.0\n",
       "50     35.0\n",
       "51     99.0\n",
       "52     75.0\n",
       "53    150.0\n",
       "54     45.0\n",
       "55    100.0\n",
       "56    120.0\n",
       "57     50.0\n",
       "Name: Value, dtype: float64"
      ]
     },
     "execution_count": 45,
     "metadata": {},
     "output_type": "execute_result"
    }
   ],
   "source": [
    "X4"
   ]
  },
  {
   "cell_type": "code",
   "execution_count": 46,
   "metadata": {},
   "outputs": [
    {
     "data": {
      "text/plain": [
       "64     25.0\n",
       "65     80.0\n",
       "66     30.0\n",
       "67     35.0\n",
       "68     30.0\n",
       "69     28.0\n",
       "70     20.0\n",
       "71     75.0\n",
       "72     48.0\n",
       "73     20.0\n",
       "74     50.0\n",
       "75     75.0\n",
       "76     55.0\n",
       "77     60.0\n",
       "78     85.0\n",
       "79    110.0\n",
       "Name: Value, dtype: float64"
      ]
     },
     "execution_count": 46,
     "metadata": {},
     "output_type": "execute_result"
    }
   ],
   "source": [
    "X5"
   ]
  },
  {
   "cell_type": "code",
   "execution_count": 56,
   "metadata": {},
   "outputs": [
    {
     "name": "stdout",
     "output_type": "stream",
     "text": [
      "0.7370653748512268\n",
      "Không có đủ bằng chứng để nói rằng dữ liệu mẫu không tuân theo phân phối chuẩn\n",
      "--------------------------------------------------\n",
      "0.5559222102165222\n",
      "Không có đủ bằng chứng để nói rằng dữ liệu mẫu không tuân theo phân phối chuẩn\n",
      "--------------------------------------------------\n",
      "0.3917592167854309\n",
      "Không có đủ bằng chứng để nói rằng dữ liệu mẫu không tuân theo phân phối chuẩn\n",
      "--------------------------------------------------\n",
      "0.5785742998123169\n",
      "Không có đủ bằng chứng để nói rằng dữ liệu mẫu không tuân theo phân phối chuẩn\n",
      "--------------------------------------------------\n",
      "0.17400741577148438\n",
      "Không có đủ bằng chứng để nói rằng dữ liệu mẫu không tuân theo phân phối chuẩn\n",
      "--------------------------------------------------\n"
     ]
    }
   ],
   "source": [
    "# Kiểm tra các mẫu có tuân theo phân phối chuẩn không\n",
    "from scipy import stats\n",
    "def shapiro_test(data):\n",
    "    p_value = stats.shapiro(data)[1]\n",
    "    print(p_value)\n",
    "    if p_value > 0.05:\n",
    "        print('Không có đủ bằng chứng để nói rằng dữ liệu mẫu không tuân theo phân phối chuẩn')\n",
    "    else:\n",
    "        print('Có đủ bằng chứng để nói rằng dữ liệu mẫu không tuân theo phân phối chuẩn')\n",
    "        print('Vì có một mẫu không tuân theo phân phối chuẩn nên ta không thực hiện kiểm định Anova 1 chiều')\n",
    "    print('-'*50)\n",
    "shapiro_test(X1)\n",
    "shapiro_test(X2)\n",
    "shapiro_test(X3)\n",
    "shapiro_test(X4)\n",
    "shapiro_test(X5)"
   ]
  },
  {
   "cell_type": "code",
   "execution_count": 57,
   "metadata": {},
   "outputs": [
    {
     "name": "stdout",
     "output_type": "stream",
     "text": [
      "0.9309738160407797\n",
      "--------------------------------------------------\n",
      "Phương sai bằng nhau\n"
     ]
    }
   ],
   "source": [
    "# Kiểm tra các mẫu có cùng phương sai không\n",
    "from scipy.stats import levene\n",
    "p_value = levene(X1, X2, X3, X4, X5)[1]\n",
    "print(p_value)\n",
    "print('-'*50)\n",
    "if p_value > 0.05:\n",
    "    print('Phương sai bằng nhau')\n",
    "else:\n",
    "    print('Phương sai không bằng nhau')\n",
    "    print('Vì phương sai của các mẫu không bằng nhau nên ta không thực hiện kiểm định Anova 1 chiều')"
   ]
  },
  {
   "cell_type": "code",
   "execution_count": 58,
   "metadata": {},
   "outputs": [
    {
     "name": "stdout",
     "output_type": "stream",
     "text": [
      "0.018391232905488122\n",
      "Loại bỏ giả thuyết H0. Chấp nhận giả thuyết Ha\n"
     ]
    }
   ],
   "source": [
    "import scipy.stats as stats\n",
    "\n",
    "p_value = stats.f_oneway(X1, X2, X3, X4, X5)[1]\n",
    "print(p_value)\n",
    "if p_value < 0.05:\n",
    "    print('Loại bỏ giả thuyết H0. Chấp nhận giả thuyết Ha')\n",
    "else:\n",
    "    print('Chấp nhận giả thuyết H0')"
   ]
  },
  {
   "cell_type": "code",
   "execution_count": null,
   "metadata": {},
   "outputs": [],
   "source": []
  }
 ],
 "metadata": {
  "kernelspec": {
   "display_name": "Python 3",
   "language": "python",
   "name": "python3"
  },
  "language_info": {
   "codemirror_mode": {
    "name": "ipython",
    "version": 3
   },
   "file_extension": ".py",
   "mimetype": "text/x-python",
   "name": "python",
   "nbconvert_exporter": "python",
   "pygments_lexer": "ipython3",
   "version": "3.8.5"
  }
 },
 "nbformat": 4,
 "nbformat_minor": 4
}
