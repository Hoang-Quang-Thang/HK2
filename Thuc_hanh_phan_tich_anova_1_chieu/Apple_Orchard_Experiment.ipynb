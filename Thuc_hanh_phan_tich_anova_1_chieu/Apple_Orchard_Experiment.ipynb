{
 "cells": [
  {
   "cell_type": "code",
   "execution_count": null,
   "metadata": {},
   "outputs": [],
   "source": [
    "Thí nghiệm vườn táo\n",
    "\n",
    "Năm loại gốc rễ đã được sử dụng trong thí nghiệm ghép vườn táo. Dữ liệu sau đây thể hiện mức tăng trưởng mở rộng (cm) \n",
    "sau bốn năm.\n",
    "\n",
    "X1 = tăng trưởng mở rộng cho loại I\n",
    "X2 = tăng trưởng mở rộng cho loại II\n",
    "X3 = tăng trưởng mở rộng cho loại III\n",
    "X4 = tăng trưởng mở rộng cho loại IV\n",
    "X5 = tăng trưởng mở rộng cho loại V"
   ]
  },
  {
   "cell_type": "code",
   "execution_count": null,
   "metadata": {},
   "outputs": [],
   "source": [
    "Xây dựng giả thuyết:\n",
    "    \n",
    "H0: X1 = X2 = X3 = X4 = X5\n",
    "Ha: Có tối thiểu một cặp giá trị trung bình có giá trị khác nhau"
   ]
  },
  {
   "cell_type": "code",
   "execution_count": 2,
   "metadata": {},
   "outputs": [],
   "source": [
    "import pandas as pd\n",
    "import numpy as np"
   ]
  },
  {
   "cell_type": "code",
   "execution_count": 4,
   "metadata": {},
   "outputs": [
    {
     "name": "stdout",
     "output_type": "stream",
     "text": [
      "*** No CODEPAGE record, no encoding_override: will use 'ascii'\n"
     ]
    },
    {
     "data": {
      "text/html": [
       "<div>\n",
       "<style scoped>\n",
       "    .dataframe tbody tr th:only-of-type {\n",
       "        vertical-align: middle;\n",
       "    }\n",
       "\n",
       "    .dataframe tbody tr th {\n",
       "        vertical-align: top;\n",
       "    }\n",
       "\n",
       "    .dataframe thead th {\n",
       "        text-align: right;\n",
       "    }\n",
       "</style>\n",
       "<table border=\"1\" class=\"dataframe\">\n",
       "  <thead>\n",
       "    <tr style=\"text-align: right;\">\n",
       "      <th></th>\n",
       "      <th>X1</th>\n",
       "      <th>X2</th>\n",
       "      <th>X3</th>\n",
       "      <th>X4</th>\n",
       "      <th>X5</th>\n",
       "    </tr>\n",
       "  </thead>\n",
       "  <tbody>\n",
       "    <tr>\n",
       "      <th>0</th>\n",
       "      <td>2569</td>\n",
       "      <td>2074</td>\n",
       "      <td>2505</td>\n",
       "      <td>2838</td>\n",
       "      <td>1532</td>\n",
       "    </tr>\n",
       "    <tr>\n",
       "      <th>1</th>\n",
       "      <td>2928</td>\n",
       "      <td>2885</td>\n",
       "      <td>2315</td>\n",
       "      <td>2351</td>\n",
       "      <td>2552</td>\n",
       "    </tr>\n",
       "    <tr>\n",
       "      <th>2</th>\n",
       "      <td>2865</td>\n",
       "      <td>3378</td>\n",
       "      <td>2667</td>\n",
       "      <td>3001</td>\n",
       "      <td>3083</td>\n",
       "    </tr>\n",
       "    <tr>\n",
       "      <th>3</th>\n",
       "      <td>3844</td>\n",
       "      <td>3906</td>\n",
       "      <td>2390</td>\n",
       "      <td>2439</td>\n",
       "      <td>2330</td>\n",
       "    </tr>\n",
       "    <tr>\n",
       "      <th>4</th>\n",
       "      <td>3027</td>\n",
       "      <td>2782</td>\n",
       "      <td>3021</td>\n",
       "      <td>2199</td>\n",
       "      <td>2079</td>\n",
       "    </tr>\n",
       "  </tbody>\n",
       "</table>\n",
       "</div>"
      ],
      "text/plain": [
       "     X1    X2    X3    X4    X5\n",
       "0  2569  2074  2505  2838  1532\n",
       "1  2928  2885  2315  2351  2552\n",
       "2  2865  3378  2667  3001  3083\n",
       "3  3844  3906  2390  2439  2330\n",
       "4  3027  2782  3021  2199  2079"
      ]
     },
     "execution_count": 4,
     "metadata": {},
     "output_type": "execute_result"
    }
   ],
   "source": [
    "df = pd.read_excel('C://Users//RED//Downloads//owan02.xls')\n",
    "df.head()"
   ]
  },
  {
   "cell_type": "code",
   "execution_count": 6,
   "metadata": {},
   "outputs": [
    {
     "data": {
      "text/html": [
       "<div>\n",
       "<style scoped>\n",
       "    .dataframe tbody tr th:only-of-type {\n",
       "        vertical-align: middle;\n",
       "    }\n",
       "\n",
       "    .dataframe tbody tr th {\n",
       "        vertical-align: top;\n",
       "    }\n",
       "\n",
       "    .dataframe thead th {\n",
       "        text-align: right;\n",
       "    }\n",
       "</style>\n",
       "<table border=\"1\" class=\"dataframe\">\n",
       "  <thead>\n",
       "    <tr style=\"text-align: right;\">\n",
       "      <th></th>\n",
       "      <th>number</th>\n",
       "      <th>Extension growth</th>\n",
       "      <th>Value</th>\n",
       "    </tr>\n",
       "  </thead>\n",
       "  <tbody>\n",
       "    <tr>\n",
       "      <th>0</th>\n",
       "      <td>0</td>\n",
       "      <td>X1</td>\n",
       "      <td>2569</td>\n",
       "    </tr>\n",
       "    <tr>\n",
       "      <th>1</th>\n",
       "      <td>1</td>\n",
       "      <td>X1</td>\n",
       "      <td>2928</td>\n",
       "    </tr>\n",
       "    <tr>\n",
       "      <th>2</th>\n",
       "      <td>2</td>\n",
       "      <td>X1</td>\n",
       "      <td>2865</td>\n",
       "    </tr>\n",
       "    <tr>\n",
       "      <th>3</th>\n",
       "      <td>3</td>\n",
       "      <td>X1</td>\n",
       "      <td>3844</td>\n",
       "    </tr>\n",
       "    <tr>\n",
       "      <th>4</th>\n",
       "      <td>4</td>\n",
       "      <td>X1</td>\n",
       "      <td>3027</td>\n",
       "    </tr>\n",
       "  </tbody>\n",
       "</table>\n",
       "</div>"
      ],
      "text/plain": [
       "   number Extension growth  Value\n",
       "0       0               X1   2569\n",
       "1       1               X1   2928\n",
       "2       2               X1   2865\n",
       "3       3               X1   3844\n",
       "4       4               X1   3027"
      ]
     },
     "execution_count": 6,
     "metadata": {},
     "output_type": "execute_result"
    }
   ],
   "source": [
    "df_melt = pd.melt(df.reset_index(), id_vars=['index'], value_vars=['X1', 'X2', 'X3', 'X4','X5'])\n",
    "# replace column names\n",
    "df_melt.columns = ['number', 'Extension growth', 'Value']\n",
    "df_melt.head()"
   ]
  },
  {
   "cell_type": "code",
   "execution_count": 7,
   "metadata": {},
   "outputs": [
    {
     "data": {
      "text/html": [
       "<div>\n",
       "<style scoped>\n",
       "    .dataframe tbody tr th:only-of-type {\n",
       "        vertical-align: middle;\n",
       "    }\n",
       "\n",
       "    .dataframe tbody tr th {\n",
       "        vertical-align: top;\n",
       "    }\n",
       "\n",
       "    .dataframe thead th {\n",
       "        text-align: right;\n",
       "    }\n",
       "</style>\n",
       "<table border=\"1\" class=\"dataframe\">\n",
       "  <thead>\n",
       "    <tr style=\"text-align: right;\">\n",
       "      <th></th>\n",
       "      <th>Extension growth</th>\n",
       "      <th>Value</th>\n",
       "    </tr>\n",
       "  </thead>\n",
       "  <tbody>\n",
       "    <tr>\n",
       "      <th>0</th>\n",
       "      <td>Type I</td>\n",
       "      <td>2569</td>\n",
       "    </tr>\n",
       "    <tr>\n",
       "      <th>1</th>\n",
       "      <td>Type I</td>\n",
       "      <td>2928</td>\n",
       "    </tr>\n",
       "    <tr>\n",
       "      <th>2</th>\n",
       "      <td>Type I</td>\n",
       "      <td>2865</td>\n",
       "    </tr>\n",
       "    <tr>\n",
       "      <th>3</th>\n",
       "      <td>Type I</td>\n",
       "      <td>3844</td>\n",
       "    </tr>\n",
       "    <tr>\n",
       "      <th>4</th>\n",
       "      <td>Type I</td>\n",
       "      <td>3027</td>\n",
       "    </tr>\n",
       "  </tbody>\n",
       "</table>\n",
       "</div>"
      ],
      "text/plain": [
       "  Extension growth  Value\n",
       "0           Type I   2569\n",
       "1           Type I   2928\n",
       "2           Type I   2865\n",
       "3           Type I   3844\n",
       "4           Type I   3027"
      ]
     },
     "execution_count": 7,
     "metadata": {},
     "output_type": "execute_result"
    }
   ],
   "source": [
    "df_melt.drop('number', axis= 1, inplace= True)\n",
    "fix_df = df_melt.replace({'X1':'Type I', 'X2':'Type II', 'X3':'Type III', 'X4':'Type IV', 'X5':'Type V'})\n",
    "X = fix_df.dropna()\n",
    "X.head()"
   ]
  },
  {
   "cell_type": "code",
   "execution_count": 11,
   "metadata": {},
   "outputs": [],
   "source": [
    "X1 = X2 = X3 = X4 = X5 = []\n",
    "X1 = X['Value'][X['Extension growth'] == 'Type I']\n",
    "X2 = X['Value'][X['Extension growth'] == 'Type II']\n",
    "X3 = X['Value'][X['Extension growth'] == 'Type III']\n",
    "X4 = X['Value'][X['Extension growth'] == 'Type IV']\n",
    "X5 = X['Value'][X['Extension growth'] == 'Type V']"
   ]
  },
  {
   "cell_type": "code",
   "execution_count": null,
   "metadata": {},
   "outputs": [],
   "source": []
  },
  {
   "cell_type": "code",
   "execution_count": 18,
   "metadata": {},
   "outputs": [
    {
     "name": "stdout",
     "output_type": "stream",
     "text": [
      "0.644533634185791\n",
      "Mẫu tuân theo phân phối chuẩn\n",
      "--------------------------------------------------\n",
      "0.7472830414772034\n",
      "Mẫu tuân theo phân phối chuẩn\n",
      "--------------------------------------------------\n",
      "0.3169650137424469\n",
      "Mẫu tuân theo phân phối chuẩn\n",
      "--------------------------------------------------\n",
      "0.5994704365730286\n",
      "Mẫu tuân theo phân phối chuẩn\n",
      "--------------------------------------------------\n",
      "0.803491473197937\n",
      "Mẫu tuân theo phân phối chuẩn\n",
      "--------------------------------------------------\n"
     ]
    }
   ],
   "source": [
    "# Kiểm tra các mẫu có tuân theo phân phối chuẩn không\n",
    "from scipy import stats\n",
    "def shapiro_test(data):\n",
    "    pvalue = stats.shapiro(data)[1]\n",
    "    print(pvalue)\n",
    "    if pvalue > 0.05:\n",
    "        print(f'Mẫu tuân theo phân phối chuẩn')\n",
    "    else:\n",
    "        print(f'Mẫu không tuân theo phân phối chuẩn')\n",
    "        print('Vì có một mẫu không tuân theo phân phối chuẩn nên ta không thực hiện kiểm định Anova')\n",
    "    print('-'*50)\n",
    "shapiro_test(X1)\n",
    "shapiro_test(X2)\n",
    "shapiro_test(X3)\n",
    "shapiro_test(X4)\n",
    "shapiro_test(X5)"
   ]
  },
  {
   "cell_type": "code",
   "execution_count": 19,
   "metadata": {},
   "outputs": [
    {
     "name": "stdout",
     "output_type": "stream",
     "text": [
      "0.7650714581028858\n",
      "--------------------------------------------------\n",
      "Phương sai bằng nhau\n"
     ]
    }
   ],
   "source": [
    "# Kiểm tra các mẫu có cùng phương sai không\n",
    "from scipy.stats import levene\n",
    "stat, pvalue = levene(X1, X2, X3, X4)\n",
    "print(pvalue)\n",
    "print('-'*50)\n",
    "if pvalue > 0.05:\n",
    "    print('Phương sai bằng nhau')\n",
    "else:\n",
    "    print('Phương sai không bằng nhau')\n",
    "    print('Vì phương sai của các mẫu không bằng nhau nên ta không thực hiện kiểm định Anova')"
   ]
  },
  {
   "cell_type": "code",
   "execution_count": 20,
   "metadata": {},
   "outputs": [
    {
     "data": {
      "text/plain": [
       "0.6409257498820091"
      ]
     },
     "execution_count": 20,
     "metadata": {},
     "output_type": "execute_result"
    }
   ],
   "source": [
    "import scipy.stats as stats\n",
    "\n",
    "pvalue = stats.f_oneway(X1, X2, X3, X4)[1]\n",
    "pvalue"
   ]
  },
  {
   "cell_type": "code",
   "execution_count": 21,
   "metadata": {},
   "outputs": [
    {
     "name": "stdout",
     "output_type": "stream",
     "text": [
      "Chấp nhận giả thuyết H0\n"
     ]
    }
   ],
   "source": [
    "if pvalue < 0.05:\n",
    "    print('Loại bỏ giả thuyết H0. Chấp nhận giả thuyết Ha')\n",
    "else:\n",
    "    print('Chấp nhận giả thuyết H0')"
   ]
  },
  {
   "cell_type": "code",
   "execution_count": null,
   "metadata": {},
   "outputs": [],
   "source": []
  }
 ],
 "metadata": {
  "kernelspec": {
   "display_name": "Python 3",
   "language": "python",
   "name": "python3"
  },
  "language_info": {
   "codemirror_mode": {
    "name": "ipython",
    "version": 3
   },
   "file_extension": ".py",
   "mimetype": "text/x-python",
   "name": "python",
   "nbconvert_exporter": "python",
   "pygments_lexer": "ipython3",
   "version": "3.8.5"
  }
 },
 "nbformat": 4,
 "nbformat_minor": 4
}
