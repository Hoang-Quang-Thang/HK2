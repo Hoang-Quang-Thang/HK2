{
 "cells": [
  {
   "cell_type": "markdown",
   "metadata": {},
   "source": [
    "**Cân nặng của các cầu thủ bóng đá:**\n",
    "\n",
    "Dữ liệu sau đây thể hiện trọng lượng (pound) của một mẫu ngẫu nhiên các cầu thủ bóng đá chuyên nghiệp của các đội sau đây.\n",
    "\n",
    "X1 = trọng lượng của người chơi của đội Dallas Cowboys\n",
    "\n",
    "X2 = trọng lượng của người chơi của đội Green Bay Packers\n",
    "\n",
    "X3 = trọng lượng của người chơi của đội Denver Broncos\n",
    "\n",
    "X4 = trọng lượng của người chơi của đội Miami Dolphins\n",
    "\n",
    "X5 = trọng lượng của người chơi của đội San Francisco Forty Niners"
   ]
  },
  {
   "cell_type": "code",
   "execution_count": 1,
   "metadata": {},
   "outputs": [],
   "source": [
    "import numpy as np\n",
    "import pandas as pd"
   ]
  },
  {
   "cell_type": "code",
   "execution_count": 2,
   "metadata": {},
   "outputs": [
    {
     "name": "stdout",
     "output_type": "stream",
     "text": [
      "*** No CODEPAGE record, no encoding_override: will use 'ascii'\n"
     ]
    },
    {
     "data": {
      "text/html": [
       "<div>\n",
       "<style scoped>\n",
       "    .dataframe tbody tr th:only-of-type {\n",
       "        vertical-align: middle;\n",
       "    }\n",
       "\n",
       "    .dataframe tbody tr th {\n",
       "        vertical-align: top;\n",
       "    }\n",
       "\n",
       "    .dataframe thead th {\n",
       "        text-align: right;\n",
       "    }\n",
       "</style>\n",
       "<table border=\"1\" class=\"dataframe\">\n",
       "  <thead>\n",
       "    <tr style=\"text-align: right;\">\n",
       "      <th></th>\n",
       "      <th>X1</th>\n",
       "      <th>X2</th>\n",
       "      <th>X3</th>\n",
       "      <th>X4</th>\n",
       "      <th>X5</th>\n",
       "    </tr>\n",
       "  </thead>\n",
       "  <tbody>\n",
       "    <tr>\n",
       "      <th>0</th>\n",
       "      <td>250</td>\n",
       "      <td>260</td>\n",
       "      <td>270</td>\n",
       "      <td>260</td>\n",
       "      <td>247</td>\n",
       "    </tr>\n",
       "    <tr>\n",
       "      <th>1</th>\n",
       "      <td>255</td>\n",
       "      <td>271</td>\n",
       "      <td>250</td>\n",
       "      <td>255</td>\n",
       "      <td>249</td>\n",
       "    </tr>\n",
       "    <tr>\n",
       "      <th>2</th>\n",
       "      <td>255</td>\n",
       "      <td>258</td>\n",
       "      <td>281</td>\n",
       "      <td>265</td>\n",
       "      <td>255</td>\n",
       "    </tr>\n",
       "    <tr>\n",
       "      <th>3</th>\n",
       "      <td>264</td>\n",
       "      <td>263</td>\n",
       "      <td>273</td>\n",
       "      <td>257</td>\n",
       "      <td>247</td>\n",
       "    </tr>\n",
       "    <tr>\n",
       "      <th>4</th>\n",
       "      <td>250</td>\n",
       "      <td>267</td>\n",
       "      <td>257</td>\n",
       "      <td>268</td>\n",
       "      <td>244</td>\n",
       "    </tr>\n",
       "  </tbody>\n",
       "</table>\n",
       "</div>"
      ],
      "text/plain": [
       "    X1   X2   X3   X4   X5\n",
       "0  250  260  270  260  247\n",
       "1  255  271  250  255  249\n",
       "2  255  258  281  265  255\n",
       "3  264  263  273  257  247\n",
       "4  250  267  257  268  244"
      ]
     },
     "execution_count": 2,
     "metadata": {},
     "output_type": "execute_result"
    }
   ],
   "source": [
    "df = pd.read_excel('owan05.xls')\n",
    "df.head()"
   ]
  },
  {
   "cell_type": "code",
   "execution_count": 3,
   "metadata": {},
   "outputs": [
    {
     "data": {
      "text/html": [
       "<div>\n",
       "<style scoped>\n",
       "    .dataframe tbody tr th:only-of-type {\n",
       "        vertical-align: middle;\n",
       "    }\n",
       "\n",
       "    .dataframe tbody tr th {\n",
       "        vertical-align: top;\n",
       "    }\n",
       "\n",
       "    .dataframe thead th {\n",
       "        text-align: right;\n",
       "    }\n",
       "</style>\n",
       "<table border=\"1\" class=\"dataframe\">\n",
       "  <thead>\n",
       "    <tr style=\"text-align: right;\">\n",
       "      <th></th>\n",
       "      <th>number</th>\n",
       "      <th>Weights of players</th>\n",
       "      <th>Value</th>\n",
       "    </tr>\n",
       "  </thead>\n",
       "  <tbody>\n",
       "    <tr>\n",
       "      <th>0</th>\n",
       "      <td>0</td>\n",
       "      <td>X1</td>\n",
       "      <td>250</td>\n",
       "    </tr>\n",
       "    <tr>\n",
       "      <th>1</th>\n",
       "      <td>1</td>\n",
       "      <td>X1</td>\n",
       "      <td>255</td>\n",
       "    </tr>\n",
       "    <tr>\n",
       "      <th>2</th>\n",
       "      <td>2</td>\n",
       "      <td>X1</td>\n",
       "      <td>255</td>\n",
       "    </tr>\n",
       "    <tr>\n",
       "      <th>3</th>\n",
       "      <td>3</td>\n",
       "      <td>X1</td>\n",
       "      <td>264</td>\n",
       "    </tr>\n",
       "    <tr>\n",
       "      <th>4</th>\n",
       "      <td>4</td>\n",
       "      <td>X1</td>\n",
       "      <td>250</td>\n",
       "    </tr>\n",
       "  </tbody>\n",
       "</table>\n",
       "</div>"
      ],
      "text/plain": [
       "   number Weights of players  Value\n",
       "0       0                 X1    250\n",
       "1       1                 X1    255\n",
       "2       2                 X1    255\n",
       "3       3                 X1    264\n",
       "4       4                 X1    250"
      ]
     },
     "execution_count": 3,
     "metadata": {},
     "output_type": "execute_result"
    }
   ],
   "source": [
    "df_melt = pd.melt(df.reset_index(), id_vars=['index'], value_vars=['X1', 'X2', 'X3', 'X4','X5'])\n",
    "# replace column names\n",
    "df_melt.columns = ['number', 'Weights of players', 'Value']\n",
    "df_melt.head()"
   ]
  },
  {
   "cell_type": "code",
   "execution_count": 4,
   "metadata": {},
   "outputs": [
    {
     "data": {
      "text/html": [
       "<div>\n",
       "<style scoped>\n",
       "    .dataframe tbody tr th:only-of-type {\n",
       "        vertical-align: middle;\n",
       "    }\n",
       "\n",
       "    .dataframe tbody tr th {\n",
       "        vertical-align: top;\n",
       "    }\n",
       "\n",
       "    .dataframe thead th {\n",
       "        text-align: right;\n",
       "    }\n",
       "</style>\n",
       "<table border=\"1\" class=\"dataframe\">\n",
       "  <thead>\n",
       "    <tr style=\"text-align: right;\">\n",
       "      <th></th>\n",
       "      <th>Weights of players</th>\n",
       "      <th>Value</th>\n",
       "    </tr>\n",
       "  </thead>\n",
       "  <tbody>\n",
       "    <tr>\n",
       "      <th>0</th>\n",
       "      <td>Dallas Cowboys</td>\n",
       "      <td>250</td>\n",
       "    </tr>\n",
       "    <tr>\n",
       "      <th>1</th>\n",
       "      <td>Dallas Cowboys</td>\n",
       "      <td>255</td>\n",
       "    </tr>\n",
       "    <tr>\n",
       "      <th>2</th>\n",
       "      <td>Dallas Cowboys</td>\n",
       "      <td>255</td>\n",
       "    </tr>\n",
       "    <tr>\n",
       "      <th>3</th>\n",
       "      <td>Dallas Cowboys</td>\n",
       "      <td>264</td>\n",
       "    </tr>\n",
       "    <tr>\n",
       "      <th>4</th>\n",
       "      <td>Dallas Cowboys</td>\n",
       "      <td>250</td>\n",
       "    </tr>\n",
       "  </tbody>\n",
       "</table>\n",
       "</div>"
      ],
      "text/plain": [
       "  Weights of players  Value\n",
       "0     Dallas Cowboys    250\n",
       "1     Dallas Cowboys    255\n",
       "2     Dallas Cowboys    255\n",
       "3     Dallas Cowboys    264\n",
       "4     Dallas Cowboys    250"
      ]
     },
     "execution_count": 4,
     "metadata": {},
     "output_type": "execute_result"
    }
   ],
   "source": [
    "df_melt.drop('number', axis= 1, inplace= True)\n",
    "fix_df = df_melt.replace({'X1':'Dallas Cowboys', 'X2':'Green Bay Packers', 'X3':'Denver Broncos', \n",
    "                          'X4':'Miami Dolphins', 'X5':'San Francisco Forty Niners'})\n",
    "X = fix_df.dropna()\n",
    "X.head()"
   ]
  },
  {
   "cell_type": "code",
   "execution_count": 5,
   "metadata": {},
   "outputs": [],
   "source": [
    "X1 = X2 = X3 = X4 = X5 = []\n",
    "X1 = X['Value'][X['Weights of players'] == 'Dallas Cowboys']\n",
    "X2 = X['Value'][X['Weights of players'] == 'Green Bay Packers']\n",
    "X3 = X['Value'][X['Weights of players'] == 'Denver Broncos']\n",
    "X4 = X['Value'][X['Weights of players'] == 'Miami Dolphins']\n",
    "X5 = X['Value'][X['Weights of players'] == 'San Francisco Forty Niners']"
   ]
  },
  {
   "cell_type": "markdown",
   "metadata": {},
   "source": [
    "**Kiểm định Shapiro-Wilk:**\n",
    "\n",
    "H0: Dữ liệu mẫu tuân theo phân phối chuẩn\n",
    "\n",
    "Ha: Có tối thiểu 1 dữ liệu mẫu không tuân theo phân phối chuẩn"
   ]
  },
  {
   "cell_type": "code",
   "execution_count": 6,
   "metadata": {},
   "outputs": [
    {
     "name": "stdout",
     "output_type": "stream",
     "text": [
      "0.028549334034323692\n",
      "Có đủ bằng chứng thống kê để bác bỏ giả thuyết H0. Điều này ngụ ý ta chấp nhận giả thuyết Ha\n",
      "Vì ta chấp nhận giả thuyết Ha nên ta không thực hiện kiểm định Anova 1 chiều\n",
      "--------------------------------------------------\n",
      "0.16341625154018402\n",
      "Chưa có đủ bằng chứng thống kê để bác bỏ giả thuyết H0. Điều này ngụ ý ta chấp nhận giả thuyết H0 \n",
      "--------------------------------------------------\n",
      "0.6627115607261658\n",
      "Chưa có đủ bằng chứng thống kê để bác bỏ giả thuyết H0. Điều này ngụ ý ta chấp nhận giả thuyết H0 \n",
      "--------------------------------------------------\n",
      "0.06506332755088806\n",
      "Chưa có đủ bằng chứng thống kê để bác bỏ giả thuyết H0. Điều này ngụ ý ta chấp nhận giả thuyết H0 \n",
      "--------------------------------------------------\n",
      "0.3383376896381378\n",
      "Chưa có đủ bằng chứng thống kê để bác bỏ giả thuyết H0. Điều này ngụ ý ta chấp nhận giả thuyết H0 \n",
      "--------------------------------------------------\n"
     ]
    }
   ],
   "source": [
    "# Kiểm tra các mẫu có tuân theo phân phối chuẩn không\n",
    "from scipy import stats\n",
    "def shapiro_test(data):\n",
    "    p_value = stats.shapiro(data)[1]\n",
    "    print(p_value)\n",
    "    if p_value < 0.05:\n",
    "        print('Có đủ bằng chứng thống kê để bác bỏ giả thuyết H0. Điều này ngụ ý ta chấp nhận giả thuyết Ha')\n",
    "        print('Vì ta chấp nhận giả thuyết Ha nên ta không thực hiện kiểm định Anova 1 chiều')\n",
    "    else:\n",
    "        print('Chưa có đủ bằng chứng thống kê để bác bỏ giả thuyết H0. Điều này ngụ ý ta chấp nhận giả thuyết H0 ')\n",
    "    print('-'*50)\n",
    "shapiro_test(X1)\n",
    "shapiro_test(X2)\n",
    "shapiro_test(X3)\n",
    "shapiro_test(X4)\n",
    "shapiro_test(X5)"
   ]
  },
  {
   "cell_type": "code",
   "execution_count": null,
   "metadata": {},
   "outputs": [],
   "source": []
  }
 ],
 "metadata": {
  "kernelspec": {
   "display_name": "Python 3",
   "language": "python",
   "name": "python3"
  },
  "language_info": {
   "codemirror_mode": {
    "name": "ipython",
    "version": 3
   },
   "file_extension": ".py",
   "mimetype": "text/x-python",
   "name": "python",
   "nbconvert_exporter": "python",
   "pygments_lexer": "ipython3",
   "version": "3.8.5"
  }
 },
 "nbformat": 4,
 "nbformat_minor": 4
}
