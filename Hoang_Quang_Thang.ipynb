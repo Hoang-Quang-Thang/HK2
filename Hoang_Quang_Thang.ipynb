{
  "nbformat": 4,
  "nbformat_minor": 0,
  "metadata": {
    "kernelspec": {
      "display_name": "Python 3",
      "language": "python",
      "name": "python3"
    },
    "language_info": {
      "codemirror_mode": {
        "name": "ipython",
        "version": 3
      },
      "file_extension": ".py",
      "mimetype": "text/x-python",
      "name": "python",
      "nbconvert_exporter": "python",
      "pygments_lexer": "ipython3",
      "version": "3.7.3"
    },
    "colab": {
      "name": "bai-tap-sinh-mau-ngau-nhien.ipynb",
      "provenance": [],
      "include_colab_link": true
    }
  },
  "cells": [
    {
      "cell_type": "markdown",
      "metadata": {
        "id": "view-in-github",
        "colab_type": "text"
      },
      "source": [
        "<a href=\"https://colab.research.google.com/github/Hoang-Quang-Thang/HK2/blob/main/Hoang_Quang_Thang.ipynb\" target=\"_parent\"><img src=\"https://colab.research.google.com/assets/colab-badge.svg\" alt=\"Open In Colab\"/></a>"
      ]
    },
    {
      "cell_type": "markdown",
      "metadata": {
        "id": "jj_E1lUAVJ8P"
      },
      "source": [
        "Sử dụng thư viện Numpy\n",
        "\n",
        "1. Sinh mẫu ngẫu nhiên bằng hàm arange trong khoảng [-15, 27] với khoảng cách là 0.7 và in kết quả ra màn hình"
      ]
    },
    {
      "cell_type": "code",
      "metadata": {
        "id": "oLWVpxmFVJ8U"
      },
      "source": [
        "import numpy as np\n",
        "from scipy import stats"
      ],
      "execution_count": 5,
      "outputs": []
    },
    {
      "cell_type": "code",
      "metadata": {
        "id": "DyvA1WC_ZnTW",
        "outputId": "d918e29f-d4c0-4746-c7d4-9720e40d77b2",
        "colab": {
          "base_uri": "https://localhost:8080/"
        }
      },
      "source": [
        "#Code\n",
        "\n",
        "x = np.arange(-15, 27, 0.7)\n",
        "print(x)"
      ],
      "execution_count": 18,
      "outputs": [
        {
          "output_type": "stream",
          "text": [
            "[-15.  -14.3 -13.6 -12.9 -12.2 -11.5 -10.8 -10.1  -9.4  -8.7  -8.   -7.3\n",
            "  -6.6  -5.9  -5.2  -4.5  -3.8  -3.1  -2.4  -1.7  -1.   -0.3   0.4   1.1\n",
            "   1.8   2.5   3.2   3.9   4.6   5.3   6.    6.7   7.4   8.1   8.8   9.5\n",
            "  10.2  10.9  11.6  12.3  13.   13.7  14.4  15.1  15.8  16.5  17.2  17.9\n",
            "  18.6  19.3  20.   20.7  21.4  22.1  22.8  23.5  24.2  24.9  25.6  26.3\n",
            "  27. ]\n"
          ],
          "name": "stdout"
        }
      ]
    },
    {
      "cell_type": "markdown",
      "metadata": {
        "id": "M6rp3Y-uVJ8V"
      },
      "source": [
        "2. Sinh mẫu ngẫu nhiên theo phân phối chuẩn với mean = 2.7 std = 1.2 và size = 40\n",
        "In kết quả ra màn hình"
      ]
    },
    {
      "cell_type": "code",
      "metadata": {
        "id": "0RIjQDO0VJ8V",
        "outputId": "c0bf3393-10d5-4b5a-ae87-a490b41478d1",
        "colab": {
          "base_uri": "https://localhost:8080/"
        }
      },
      "source": [
        "#Code\n",
        "mean = 2.7   # loc\n",
        "std = 1.2    # scale\n",
        "size = 40    # cỡ mẫu\n",
        "\n",
        "x = stats.norm.rvs(mean, std, size)\n",
        "print(x)"
      ],
      "execution_count": 17,
      "outputs": [
        {
          "output_type": "stream",
          "text": [
            "[ 2.5624534   1.82712983  1.46037883  4.82068493  1.47673515  2.1869712\n",
            "  3.67052231  2.72139325  3.87360719  4.92643208  3.02382199  4.40512352\n",
            "  1.55309392  3.15364687  2.42936982  2.73361952  2.60996793  3.76166457\n",
            " -0.93634761  2.18317434  1.4768749   3.19404913  1.12687494  5.25624422\n",
            "  1.32167163  3.41333109  4.5225389   0.28378594  1.98773841  3.16067056\n",
            "  3.52783919  2.15480768  2.19591607  2.5001166   1.71159986  0.53805326\n",
            "  3.87156534  0.97701733  2.97519012  1.14391043]\n"
          ],
          "name": "stdout"
        }
      ]
    },
    {
      "cell_type": "markdown",
      "metadata": {
        "id": "MKu11HccVJ8W"
      },
      "source": [
        "3. Sinh mẫu ngẫu nhiên từ vector ['Viet Nam', 'Britain', 'France', 'Russia', 'Singapore'] \n",
        "\n",
        "với kích thước là 17 theo phân phối chuẩn"
      ]
    },
    {
      "cell_type": "code",
      "metadata": {
        "id": "rt8LVT63VJ8W",
        "outputId": "a14ff065-130a-4063-cca8-9fce8da76052",
        "colab": {
          "base_uri": "https://localhost:8080/"
        }
      },
      "source": [
        "#Code\n",
        "\n",
        "x = np.random.choice(['Viet Nam', 'Britain', 'France', 'Russia', 'Singapore'], 17)\n",
        "print(x)"
      ],
      "execution_count": 16,
      "outputs": [
        {
          "output_type": "stream",
          "text": [
            "['Russia' 'Singapore' 'France' 'Singapore' 'Singapore' 'Russia' 'Viet Nam'\n",
            " 'Britain' 'Russia' 'Britain' 'France' 'Britain' 'Russia' 'France'\n",
            " 'France' 'Russia' 'Russia']\n"
          ],
          "name": "stdout"
        }
      ]
    },
    {
      "cell_type": "markdown",
      "metadata": {
        "id": "QlLwxJeBVJ8W"
      },
      "source": [
        "4. Sinh mẫu ngẫu nhiên ở câu 3 nhưng không theo phân phối chuẩn mà theo 1 vector đặc tả giá trị xác suất do bạn chọn"
      ]
    },
    {
      "cell_type": "code",
      "metadata": {
        "id": "LB7e2Jv7VJ8X",
        "outputId": "0fcb8e26-f6dc-43a9-f7f1-dad5b69b5623",
        "colab": {
          "base_uri": "https://localhost:8080/"
        }
      },
      "source": [
        "#Code\n",
        "\n",
        "so_du_lieu = 5\n",
        "x = np.random.choice(['Viet Nam', 'Britain', 'France', 'Russia', 'Singapore'], so_du_lieu, p = [0.3, 0.3, 0.1, 0.1, 0.2]) \n",
        "print(x)"
      ],
      "execution_count": 25,
      "outputs": [
        {
          "output_type": "stream",
          "text": [
            "['Britain' 'Russia' 'Britain' 'Viet Nam' 'Singapore']\n"
          ],
          "name": "stdout"
        }
      ]
    },
    {
      "cell_type": "markdown",
      "metadata": {
        "id": "xhb-V2-VVJ8X"
      },
      "source": [
        "Sử dụng thư việc scipy.stats để sinh mẫu ngẫu nhiên\n",
        "\n",
        "1. Sinh mẫu ngẫu nhiên theo phân phối chuẩn với mean = 12.7, std = 2.6 và size = 30. In kết quả ra màn hình"
      ]
    },
    {
      "cell_type": "code",
      "metadata": {
        "id": "aSDx6ULzVJ8X",
        "outputId": "47f00d3e-bdf1-4feb-b0c4-dd5244b95af6",
        "colab": {
          "base_uri": "https://localhost:8080/"
        }
      },
      "source": [
        "#Code\n",
        "\n",
        "mean = 12.7   # loc\n",
        "std = 2.6    # scale\n",
        "size = 30    # cỡ mẫu\n",
        "\n",
        "x = stats.norm.rvs(mean, std, size)\n",
        "print(x)"
      ],
      "execution_count": 26,
      "outputs": [
        {
          "output_type": "stream",
          "text": [
            "[ 9.27657645 13.88603789 14.15685213  9.21580596  9.96086503 10.15146805\n",
            " 12.22176419 10.83942172  9.9139682  16.30391407 12.05192033 11.28608684\n",
            " 13.80396328  9.47534688 14.99875138 15.76438185 13.4166353  12.07328587\n",
            " 14.24970622 10.86554215 18.15760741 12.72151431 16.11092737 14.23880943\n",
            " 14.02195276 11.05373774 12.06750776  8.58567318  8.22501428  9.89870062]\n"
          ],
          "name": "stdout"
        }
      ]
    },
    {
      "cell_type": "markdown",
      "metadata": {
        "id": "lC4tpjHVVJ8X"
      },
      "source": [
        "2. Hãy sinh một mẫu ngẫu nhiên theo phân phối Poisson"
      ]
    },
    {
      "cell_type": "code",
      "metadata": {
        "id": "TvGtrqrfVJ8Y",
        "outputId": "4142f377-3eaf-43f5-cb83-4a551c920eca",
        "colab": {
          "base_uri": "https://localhost:8080/"
        }
      },
      "source": [
        "#Code\n",
        "\n",
        "mean = 12.7   # loc\n",
        "std = 2.6    # scale\n",
        "size = 30    # cỡ mẫu\n",
        "\n",
        "x = stats.poisson.rvs(mean, std, size)\n",
        "print(x)"
      ],
      "execution_count": 27,
      "outputs": [
        {
          "output_type": "stream",
          "text": [
            "[24 14 15  8 12 15 15 14 17 12 12 13 14 18 10 10 19 15 14 10  6 10 14 14\n",
            " 12 11 11 16 15 14]\n"
          ],
          "name": "stdout"
        }
      ]
    },
    {
      "cell_type": "code",
      "metadata": {
        "id": "oOZDohWYVJ8Y"
      },
      "source": [
        ""
      ],
      "execution_count": null,
      "outputs": []
    }
  ]
}