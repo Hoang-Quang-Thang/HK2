{
  "nbformat": 4,
  "nbformat_minor": 0,
  "metadata": {
    "kernelspec": {
      "display_name": "Python 3",
      "language": "python",
      "name": "python3"
    },
    "language_info": {
      "codemirror_mode": {
        "name": "ipython",
        "version": 3
      },
      "file_extension": ".py",
      "mimetype": "text/x-python",
      "name": "python",
      "nbconvert_exporter": "python",
      "pygments_lexer": "ipython3",
      "version": "3.7.3"
    },
    "colab": {
      "name": "kiem-dinh-f.ipynb",
      "provenance": [],
      "include_colab_link": true
    }
  },
  "cells": [
    {
      "cell_type": "markdown",
      "metadata": {
        "id": "view-in-github",
        "colab_type": "text"
      },
      "source": [
        "<a href=\"https://colab.research.google.com/github/Hoang-Quang-Thang/HK2/blob/main/kiem_dinh_f.ipynb\" target=\"_parent\"><img src=\"https://colab.research.google.com/assets/colab-badge.svg\" alt=\"Open In Colab\"/></a>"
      ]
    },
    {
      "cell_type": "markdown",
      "metadata": {
        "id": "edFM1yqmiOqs"
      },
      "source": [
        "KIỂM ĐỊNH F\n",
        "\n",
        "Thay vì xây dựng giả thuyết với giá trị trung bình, người ta có thể xây dựng giả thuyết với phương sai (variance $\\sigma^{2}$). Trong trường hợp này, chúng ta sử dụng kiểm định F. Tóm tắt về kiểm định F như sau:\n",
        "\n",
        "Kiểm định một đuôi:\n",
        "\n",
        "$$H_{0}: \\sigma^{2} = \\sigma_{0}^{2} $$\n",
        "\n",
        "$$H_{a}: \\sigma^{2} < \\sigma_{0}^{2} (H_{a}: \\sigma^{2} > \\sigma_{0}^{2})$$ \n",
        "\n",
        "Giá trị thống kê kiểm định:\n",
        "\n",
        "$$ \\chi^{2} = \\frac{(n-1)s^{2}}{\\sigma_{0}^{2}}$$\n",
        "\n",
        "Vùng bác bỏ: $\\chi^{2} < \\chi_{(1 - \\alpha)}^{2}$  hoặc $\\chi^{2} > \\chi_{(1 - \\alpha)}^{2}$  khi $H_{a}: \\sigma^{2} > \\sigma_{0}^{2}$\n",
        "\n",
        "Ghi chú: \n",
        "\n",
        "- $\\chi^{2}$ - chi-square\n",
        "- (n - 1) mức tự do\n",
        "\n"
      ]
    },
    {
      "cell_type": "markdown",
      "metadata": {
        "id": "Xedy7PMbiOrF"
      },
      "source": [
        "Kiểm định 2 đuôi:\n",
        "\n",
        "$$H_{0}: \\sigma^{2} = \\sigma_{0}^{2}$$\n",
        "$$H_{a}:\\sigma^{2} \\neq \\sigma_{0}^{2} $$\n",
        "\n",
        "Giá trị thống kê kiểm định:\n",
        "\n",
        "$$ \\chi^{2} = \\frac{(n-1)s^{2}}{\\sigma_{0}^{2}}$$\n",
        "\n",
        "Vùng bác bỏ: $\\chi^{2} < \\chi_{(1 - \\alpha/2)}^{2}$  hoặc $\\chi^{2} > \\chi_{(\\alpha/2)}^{2}$  \n",
        "Ghi chú: \n",
        "\n",
        "- $\\chi^{2}$ - chi-square\n",
        "- (n - 1) mức tự do"
      ]
    },
    {
      "cell_type": "markdown",
      "metadata": {
        "id": "Syx5jSOViOrJ"
      },
      "source": [
        "THỰC HÀNH KIỂM ĐỊNH F\n",
        "\n",
        "Bước 1: Sinh ngẫu nhiên số liệu\n",
        "\n",
        "Bước 2: Xây dựng giả thuyết \n",
        "\n",
        "Bước 3: Kiểm định Bartlett "
      ]
    },
    {
      "cell_type": "code",
      "metadata": {
        "colab": {
          "base_uri": "https://localhost:8080/"
        },
        "id": "XpMZcbCOiOrL",
        "outputId": "8b917fff-8317-4d7e-e8ed-a2aa3df0cef5"
      },
      "source": [
        "import numpy as np\n",
        "import pandas as pd\n",
        "import random\n",
        "from scipy import stats\n",
        "from statsmodels.stats.weightstats import ztest\n",
        "import warnings\n",
        "import matplotlib.pyplot as plt\n",
        "import seaborn as sns\n",
        "%matplotlib inline"
      ],
      "execution_count": 2,
      "outputs": [
        {
          "output_type": "stream",
          "text": [
            "/usr/local/lib/python3.7/dist-packages/statsmodels/tools/_testing.py:19: FutureWarning: pandas.util.testing is deprecated. Use the functions in the public API at pandas.testing instead.\n",
            "  import pandas.util.testing as tm\n"
          ],
          "name": "stderr"
        }
      ]
    },
    {
      "cell_type": "code",
      "metadata": {
        "id": "CjiL_uR-iOrN"
      },
      "source": [
        "#Sinh ngẫu nhiên 1000 mẫu tuân theo phân phối chuẩn có trung bình mẫu là 7.5 và độ lệch chuẩn là 0.25\n",
        "mean_1 = 7.5\n",
        "std_1 = 0.25\n",
        "N_1 = 1000\n",
        "samples_1 = np.random.normal(mean_1, std_1, N_1)"
      ],
      "execution_count": null,
      "outputs": []
    },
    {
      "cell_type": "code",
      "metadata": {
        "id": "XyMCABmYiOrP",
        "outputId": "87c3c41b-e27e-46a4-b0ae-0c1640f3f13b"
      },
      "source": [
        "#In ra 10 phần tử đầu tiên\n",
        "print(samples_1[:10])"
      ],
      "execution_count": null,
      "outputs": [
        {
          "output_type": "stream",
          "text": [
            "[7.80435077 7.39173474 7.88538046 7.36791265 7.47550623 7.47039075\n",
            " 7.42038182 7.785741   8.17327938 7.32138352]\n"
          ],
          "name": "stdout"
        }
      ]
    },
    {
      "cell_type": "code",
      "metadata": {
        "id": "5cqFi1Q5iOrT"
      },
      "source": [
        "#Sinh ngẫu nhiên 900 mẫu tuân theo phân phối chuẩn có trung bình mẫu là 7 và độ lệch chuẩn là 0.2\n",
        "mean_2= 7\n",
        "std_2 = 0.2\n",
        "N_2 = 900\n",
        "samples_2 = np.random.normal(mean_2, std_2, N_2)"
      ],
      "execution_count": null,
      "outputs": []
    },
    {
      "cell_type": "code",
      "metadata": {
        "id": "x_CeJSyuiOrZ",
        "outputId": "357af6e5-c4f4-4caf-d84c-46de6abd3d51"
      },
      "source": [
        "#In ra 10 phần tử đầu tiên\n",
        "print(samples_2[:10])"
      ],
      "execution_count": null,
      "outputs": [
        {
          "output_type": "stream",
          "text": [
            "[6.97392727 6.7680331  6.9765569  7.20116716 6.70116584 7.11348431\n",
            " 7.13056472 7.28356771 7.13143519 7.12268851]\n"
          ],
          "name": "stdout"
        }
      ]
    },
    {
      "cell_type": "markdown",
      "metadata": {
        "id": "IBII79gCiOrb"
      },
      "source": [
        "Xây dựng giả thuyết:\n",
        "$$H_{0}: \\sigma_{1}^{2} = \\sigma_{2}^{2}$$\n",
        "$$H_{a}: \\sigma_{1}^{2} \\neq \\sigma_{2}^{2}$$"
      ]
    },
    {
      "cell_type": "code",
      "metadata": {
        "id": "wUYLk2D1iOrd",
        "outputId": "1b1d30a9-c4b0-4640-c52b-34a83414db08"
      },
      "source": [
        "#Kiểm định Bartlett\n",
        "stat_value, p_value = stats.bartlett(samples_1, samples_2)\n",
        "print(\"Stat value: \", stat_value, \"; p-value: \", p_value)"
      ],
      "execution_count": null,
      "outputs": [
        {
          "output_type": "stream",
          "text": [
            "Stat value:  50.71159890972865 ; p-value:  1.0698543599175272e-12\n"
          ],
          "name": "stdout"
        }
      ]
    },
    {
      "cell_type": "code",
      "metadata": {
        "id": "Ntcid2WXiOrf",
        "outputId": "81f5583a-6713-44eb-b9fa-9ab7696fc463"
      },
      "source": [
        "alpha = 0.05\n",
        "if(p_value <  alpha):\n",
        "  print(\"Có bằng chứng để bác bỏ giả thuyết H0\")\n",
        "else:\n",
        "  print(\"Chưa có bằng chứng để bác bỏ giả thuyết H0\")"
      ],
      "execution_count": null,
      "outputs": [
        {
          "output_type": "stream",
          "text": [
            "Có bằng chứng để bác bỏ giả thuyết H0\n"
          ],
          "name": "stdout"
        }
      ]
    },
    {
      "cell_type": "markdown",
      "metadata": {
        "id": "LZxLh-GxiOrh"
      },
      "source": [
        "BÀI TẬP\n",
        "\n",
        "Bạn hãy thử viết code tiến hành kiểm định F 1 đuôi?\n",
        "\n",
        "Gợi ý: Thử tìm kiếm ví dụ về kiểm dịnh F 1 đuôi trong ngôn ngữ lập trình Python & R để nhận thấy sự khác biệt."
      ]
    },
    {
      "cell_type": "markdown",
      "metadata": {
        "id": "od59_4Fyie0l"
      },
      "source": [
        "B1: Sinh số ngẫu nhiên"
      ]
    },
    {
      "cell_type": "code",
      "metadata": {
        "colab": {
          "base_uri": "https://localhost:8080/"
        },
        "id": "i2nBy0DfiOri",
        "outputId": "0dcc87f7-d04d-4d59-fcea-c2b8e10dbe77"
      },
      "source": [
        "mean3 = 10\n",
        "std3 = 0.5\n",
        "n3 = 50\n",
        "sample_3 = np.random.normal(mean3, std3, n3)\n",
        "print(sample_3[:10])"
      ],
      "execution_count": 3,
      "outputs": [
        {
          "output_type": "stream",
          "text": [
            "[ 9.13754295  9.21331238 11.8963961   9.94016228 10.34448483 10.56808789\n",
            "  9.90090785  9.93085901  9.89635783  9.87199872]\n"
          ],
          "name": "stdout"
        }
      ]
    },
    {
      "cell_type": "code",
      "metadata": {
        "colab": {
          "base_uri": "https://localhost:8080/"
        },
        "id": "ngMwSKm0ph3e",
        "outputId": "15de13d7-719e-4994-f65d-608d7a4af6e0"
      },
      "source": [
        "mean4 = 9\n",
        "std4 = 0.4\n",
        "n4 = 40\n",
        "sample_4 = np.random.normal(mean4, std4, n4)\n",
        "print(sample_4[:10])"
      ],
      "execution_count": 4,
      "outputs": [
        {
          "output_type": "stream",
          "text": [
            "[8.79115401 9.39718361 9.02209642 9.15367733 9.36492068 9.06725154\n",
            " 9.60916602 9.10211698 9.02223609 9.01068521]\n"
          ],
          "name": "stdout"
        }
      ]
    },
    {
      "cell_type": "markdown",
      "metadata": {
        "id": "Wj3nLwCKpkx6"
      },
      "source": [
        "\n",
        "Bước 2: Xây dựng giả thuyết\n",
        "$$H_{a}: \\sigma_{1}^{2} > \\sigma_{2}^{2}\n",
        "$$ \n"
      ]
    },
    {
      "cell_type": "code",
      "metadata": {
        "id": "6ctH5WGXp9La"
      },
      "source": [
        "alpha_new = 0.05"
      ],
      "execution_count": 7,
      "outputs": []
    },
    {
      "cell_type": "markdown",
      "metadata": {
        "id": "EO1_pZRBq0bL"
      },
      "source": [
        "B3: Kiểm định Bartlett\n"
      ]
    },
    {
      "cell_type": "code",
      "metadata": {
        "colab": {
          "base_uri": "https://localhost:8080/"
        },
        "id": "IhUj08Hkq3JN",
        "outputId": "6f38a87d-d351-4fa1-d147-a3e4287797a4"
      },
      "source": [
        "print('Variance a={0:.3f}, Variance b={1:.3f}'.format(np.var(sample_3, ddof=1), np.var(sample_4, ddof=1)))"
      ],
      "execution_count": 5,
      "outputs": [
        {
          "output_type": "stream",
          "text": [
            "Variance a=0.282, Variance b=0.136\n"
          ],
          "name": "stdout"
        }
      ]
    },
    {
      "cell_type": "code",
      "metadata": {
        "colab": {
          "base_uri": "https://localhost:8080/"
        },
        "id": "LHsqQIxtq6Rj",
        "outputId": "3ab2419b-caa7-4956-e875-6d3da6ddb2b4"
      },
      "source": [
        "fstatistics = max(np.var(sample_3, ddof=1), np.var(sample_4, ddof=1))/min(np.var(sample_3, ddof=1), np.var(sample_4, ddof=1))\n",
        "fdistribution = stats.f(len(sample_3)-1, len(sample_4)-1)\n",
        "p_value = 1 - fdistribution.cdf(fstatistics)\n",
        "print(p_value)\n",
        "if(p_value <  alpha_new):\n",
        "  print(\"Có bằng chứng để bác bỏ giả thuyết H0\")\n",
        "else:\n",
        "  print(\"Chưa có bằng chứng để bác bỏ giả thuyết H0\")"
      ],
      "execution_count": 10,
      "outputs": [
        {
          "output_type": "stream",
          "text": [
            "0.010229548255743293\n",
            "Có bằng chứng để bác bỏ giả thuyết H0\n"
          ],
          "name": "stdout"
        }
      ]
    },
    {
      "cell_type": "markdown",
      "metadata": {
        "id": "TisOdaA8rKR7"
      },
      "source": [
        "Trường hợp khác\n",
        "$$H_{a}: \\sigma_{1}^{2} < \\sigma_{2}^{2}$$"
      ]
    },
    {
      "cell_type": "code",
      "metadata": {
        "colab": {
          "base_uri": "https://localhost:8080/"
        },
        "id": "peX-RBUSrUNW",
        "outputId": "6ef5f40a-83c5-460b-e72d-fa4f16052665"
      },
      "source": [
        "fstatistics = min(np.var(sample_3, ddof=1), np.var(sample_4, ddof=1)) / max(np.var(sample_3, ddof=1), np.var(sample_4, ddof=1))\n",
        "fdistribution = stats.f(len(sample_3)-1,len(sample_4)-1)\n",
        "p_value = 1 - fdistribution.cdf(fstatistics)\n",
        "print(p_value)\n",
        "if(p_value <  alpha_new):\n",
        "  print(\"Có bằng chứng để bác bỏ giả thuyết H0\")\n",
        "else:\n",
        "  print(\"Chưa có bằng chứng để bác bỏ giả thuyết H0\")"
      ],
      "execution_count": 11,
      "outputs": [
        {
          "output_type": "stream",
          "text": [
            "0.9918903891396402\n",
            "Chưa có bằng chứng để bác bỏ giả thuyết H0\n"
          ],
          "name": "stdout"
        }
      ]
    }
  ]
}