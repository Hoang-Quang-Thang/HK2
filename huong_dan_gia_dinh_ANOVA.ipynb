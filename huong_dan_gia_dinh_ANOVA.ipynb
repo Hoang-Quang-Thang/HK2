{
  "nbformat": 4,
  "nbformat_minor": 0,
  "metadata": {
    "kernelspec": {
      "display_name": "Python 3",
      "language": "python",
      "name": "python3"
    },
    "language_info": {
      "codemirror_mode": {
        "name": "ipython",
        "version": 3
      },
      "file_extension": ".py",
      "mimetype": "text/x-python",
      "name": "python",
      "nbconvert_exporter": "python",
      "pygments_lexer": "ipython3",
      "version": "3.7.3"
    },
    "colab": {
      "name": "huong-dan-gia-dinh-ANOVA.ipynb",
      "provenance": [],
      "include_colab_link": true
    }
  },
  "cells": [
    {
      "cell_type": "markdown",
      "metadata": {
        "id": "view-in-github",
        "colab_type": "text"
      },
      "source": [
        "<a href=\"https://colab.research.google.com/github/Hoang-Quang-Thang/HK2/blob/main/huong_dan_gia_dinh_ANOVA.ipynb\" target=\"_parent\"><img src=\"https://colab.research.google.com/assets/colab-badge.svg\" alt=\"Open In Colab\"/></a>"
      ]
    },
    {
      "cell_type": "markdown",
      "metadata": {
        "id": "MHKofnbyv9UD"
      },
      "source": [
        "PHÂN TÍCH ANOVA MỘT CHIỀU\n",
        "\n",
        "Phân tích ANOVA chấp nhận các giả định sau:\n",
        "\n",
        "(1) Tất cả các nhóm đều độc lập với nhau\n",
        "\n",
        "(2) Dữ liệu của mỗi nhóm đều tuân theo phân phối chuẩn. Tính chất này có thể được kiểm định bằng phương pháp Shapiro-Wilks.\n",
        "\n",
        "(3) Phương sai (variance) của các nhóm bằng nhau. Tính chất này có thể được kiểm định bằng phương pháp kiểm định Bartlett hay Levene.\n",
        "\n",
        "Nếu dữ liệu hiện có thỏa mãn các tính chất trên thì chúng ta mới tiến hành kiểm định ANOVA. Do vậy trước khi tiến hành kiểm định ANOVA, chúng ta cần thực hiện kiểm tra tập dữ liệu cần thỏa mãn 3 tính chất trên.\n",
        "    "
      ]
    },
    {
      "cell_type": "code",
      "metadata": {
        "id": "DTeFw661wPs1"
      },
      "source": [
        "import numpy as np\n",
        "from scipy import stats"
      ],
      "execution_count": null,
      "outputs": []
    },
    {
      "cell_type": "code",
      "metadata": {
        "colab": {
          "base_uri": "https://localhost:8080/"
        },
        "id": "bJNvS5Eiv9UL",
        "outputId": "5e3db36f-f568-4ad6-9a60-93d8ca713a10"
      },
      "source": [
        "#Bước 1: Hãy tạo một tập dữ liệu mẫu sample_1 với kích thước 100 tuân theo phân phối chuẩn\n",
        "mean_1 = 10\n",
        "std_1 = 5\n",
        "N_1 = 100\n",
        "sample_1 = np.random.normal(mean_1, std_1, N_1)\n",
        "sample_1[:10]"
      ],
      "execution_count": null,
      "outputs": [
        {
          "output_type": "execute_result",
          "data": {
            "text/plain": [
              "array([ 7.06034101, 14.17974654,  9.31676668,  9.75939241, 10.91446936,\n",
              "        3.27240274, 23.38075309,  5.49927415,  9.78320187, 15.25126789])"
            ]
          },
          "metadata": {
            "tags": []
          },
          "execution_count": 4
        }
      ]
    },
    {
      "cell_type": "code",
      "metadata": {
        "colab": {
          "base_uri": "https://localhost:8080/"
        },
        "id": "5b33ytspv9UM",
        "outputId": "e000003f-bacd-4d78-e459-a9dd66aa01d3"
      },
      "source": [
        "#Bước 2: hãy tạo tập dữ liệu mẫu sample_2 với kích thước 100 tuân theo phân phối Poisson\n",
        "sample_2 = np.random.poisson( lam = 8 , size = 1000 )\n",
        "sample_2[:10]"
      ],
      "execution_count": null,
      "outputs": [
        {
          "output_type": "execute_result",
          "data": {
            "text/plain": [
              "array([ 5,  7,  1,  6,  5,  9,  6,  5,  2, 14])"
            ]
          },
          "metadata": {
            "tags": []
          },
          "execution_count": 5
        }
      ]
    },
    {
      "cell_type": "markdown",
      "metadata": {
        "id": "iICFykeFv9UN"
      },
      "source": [
        "Hãy tham khảo các hướng dẫn sau để kiểm định tính chất thứ 2 bằng phương pháp Shapiro-Wilks đối với sample_1 và sample_2\n",
        "\n",
        "(1) [Tài liệu tham khảo scipy](https://docs.scipy.org/doc/scipy/reference/generated/scipy.stats.shapiro.html)\n",
        "\n",
        "(2) [Hướng dẫn cụ thể của statology](https://www.statology.org/shapiro-wilk-test-python/)"
      ]
    },
    {
      "cell_type": "markdown",
      "metadata": {
        "id": "PpMExrsgWcqV"
      },
      "source": [
        "$Ho$: Dữ liệu mẫu tuân theo phân phối chuẩn\n",
        "\n",
        "$Ha$: Dữ liệu mẫu không tuân theo phân phối chuẩn"
      ]
    },
    {
      "cell_type": "code",
      "metadata": {
        "colab": {
          "base_uri": "https://localhost:8080/"
        },
        "id": "sEOdUMBsv9UN",
        "outputId": "2c132395-4dba-4077-f3a7-d060f2fc624d"
      },
      "source": [
        "#Code kiểm định tính chất thứ 2 của sample_1 và sample_2\n",
        "p_value_1 = stats.shapiro(sample_1)[1]\n",
        "p_value_2 = stats.shapiro(sample_2)[1]\n",
        "\n",
        "print(p_value_1)\n",
        "if p_value_1 > 0.05:\n",
        "  print('Không có đủ bằng chứng để bác bỏ giả thuyết H0. Điều này ngụ ý ta chấp nhận giả thuyết H0')\n",
        "else:\n",
        "  print('Có đủ bằng chứng để bác bỏ giả thuyết H0. Điều này ngụ ý ta chấp nhận giả thuyết Ha')\n",
        "\n",
        "print(p_value_2)\n",
        "if p_value_2 > 0.05:\n",
        "  print('Không có đủ bằng chứng để bác bỏ giả thuyết H0. Điều này ngụ ý ta chấp nhận giả thuyết H0')\n",
        "else:\n",
        "  print('Có đủ bằng chứng để bác bỏ giả thuyết H0. Điều này ngụ ý ta chấp nhận giả thuyết Ha')"
      ],
      "execution_count": null,
      "outputs": [
        {
          "output_type": "stream",
          "text": [
            "0.9887957572937012\n",
            "Không có đủ bằng chứng để bác bỏ giả thuyết H0. Điều này ngụ ý ta chấp nhận giả thuyết H0\n",
            "1.9391086514275457e-09\n",
            "Có đủ bằng chứng để bác bỏ giả thuyết H0. Điều này ngụ ý ta chấp nhận giả thuyết Ha\n"
          ],
          "name": "stdout"
        }
      ]
    },
    {
      "cell_type": "markdown",
      "metadata": {
        "id": "ESRVJOyPv9UO"
      },
      "source": [
        "Hãy tham khảo các hướng dẫn sau để kiểm định tính chất thứ 3 bằng kiểm định Bartlett hoặc kiểm định Levene\n",
        "\n",
        "(1) [Hướng dẫn tổng quát](https://www.marsja.se/levenes-bartletts-test-of-equality-homogeneity-of-variance-in-python/)\n",
        "\n",
        "(2) [Hướng dẫn ở stackoverflow](https://stackoverflow.com/questions/36141254/how-to-test-for-homoscedasticity-having-the-same-population-variance-in-python)\n",
        "\n",
        "(3) Sử dụng bài giảng về kiểm định Bartlett và Levene ở buổi trước"
      ]
    },
    {
      "cell_type": "markdown",
      "metadata": {
        "id": "Tk-8TrFMbtNs"
      },
      "source": [
        "$Ho$: Phương sai các mẫu bằng nhau\n",
        "\n",
        "$Ha$: Phương sai các mẫu không bằng nhau"
      ]
    },
    {
      "cell_type": "code",
      "metadata": {
        "colab": {
          "base_uri": "https://localhost:8080/"
        },
        "id": "ueq4XSBFv9UO",
        "outputId": "f3ab4dd9-1bbd-4620-b9ee-32c89ab303b4"
      },
      "source": [
        "#Code kiểm định tính đồng nhất về phương sai của các nhóm\n",
        "# Kiểm định Levene\n",
        "p_value_3 = stats.levene(sample_1,sample_2)[1]\n",
        "print(p_value_3)\n",
        "if p_value_3 > 0.05:\n",
        "  print('Không có đủ bằng chứng để bác bỏ giả thuyết H0. Điều này ngụ ý ta chấp nhận giả thuyết H0')\n",
        "else:\n",
        "  print('Có đủ bằng chứng để bác bỏ giả thuyết H0. Điều này ngụ ý ta chấp nhận giả thuyết Ha')"
      ],
      "execution_count": null,
      "outputs": [
        {
          "output_type": "stream",
          "text": [
            "1.710106816408576e-14\n",
            "Có đủ bằng chứng để bác bỏ giả thuyết H0. Điều này ngụ ý ta chấp nhận giả thuyết Ha\n"
          ],
          "name": "stdout"
        }
      ]
    },
    {
      "cell_type": "code",
      "metadata": {
        "id": "FGbX7kOzzII4",
        "colab": {
          "base_uri": "https://localhost:8080/"
        },
        "outputId": "1218ba83-ebbb-4484-e7e0-cd0bce9ea949"
      },
      "source": [
        "#Kiểm định Bartlett\n",
        "p_value_4 = stats.bartlett(sample_1, sample_2)[1]\n",
        "print(p_value_4)\n",
        "if p_value_4 > 0.05:\n",
        "  print('Không có đủ bằng chứng để bác bỏ giả thuyết H0. Điều này ngụ ý ta chấp nhận giả thuyết H0')\n",
        "else:\n",
        "  print('Có đủ bằng chứng để bác bỏ giả thuyết H0. Điều này ngụ ý ta chấp nhận giả thuyết Ha')"
      ],
      "execution_count": null,
      "outputs": [
        {
          "output_type": "stream",
          "text": [
            "3.5632437792906555e-15\n",
            "Có đủ bằng chứng để bác bỏ giả thuyết H0. Điều này ngụ ý ta chấp nhận giả thuyết Ha\n"
          ],
          "name": "stdout"
        }
      ]
    }
  ]
}