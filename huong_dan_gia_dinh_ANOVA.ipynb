{
  "nbformat": 4,
  "nbformat_minor": 0,
  "metadata": {
    "kernelspec": {
      "display_name": "Python 3",
      "language": "python",
      "name": "python3"
    },
    "language_info": {
      "codemirror_mode": {
        "name": "ipython",
        "version": 3
      },
      "file_extension": ".py",
      "mimetype": "text/x-python",
      "name": "python",
      "nbconvert_exporter": "python",
      "pygments_lexer": "ipython3",
      "version": "3.7.3"
    },
    "colab": {
      "name": "huong-dan-gia-dinh-ANOVA.ipynb",
      "provenance": [],
      "include_colab_link": true
    }
  },
  "cells": [
    {
      "cell_type": "markdown",
      "metadata": {
        "id": "view-in-github",
        "colab_type": "text"
      },
      "source": [
        "<a href=\"https://colab.research.google.com/github/Hoang-Quang-Thang/HK2/blob/main/huong_dan_gia_dinh_ANOVA.ipynb\" target=\"_parent\"><img src=\"https://colab.research.google.com/assets/colab-badge.svg\" alt=\"Open In Colab\"/></a>"
      ]
    },
    {
      "cell_type": "markdown",
      "metadata": {
        "id": "MHKofnbyv9UD"
      },
      "source": [
        "PHÂN TÍCH ANOVA MỘT CHIỀU\n",
        "\n",
        "Phân tích ANOVA chấp nhận các giả định sau:\n",
        "\n",
        "(1) Tất cả các nhóm đều độc lập với nhau\n",
        "\n",
        "(2) Dữ liệu của mỗi nhóm đều tuân theo phân phối chuẩn. Tính chất này có thể được kiểm định bằng phương pháp Shapiro-Wilks.\n",
        "\n",
        "(3) Phương sai (variance) của các nhóm bằng nhau. Tính chất này có thể được kiểm định bằng phương pháp kiểm định Bartlett hay Levene.\n",
        "\n",
        "Nếu dữ liệu hiện có thỏa mãn các tính chất trên thì chúng ta mới tiến hành kiểm định ANOVA. Do vậy trước khi tiến hành kiểm định ANOVA, chúng ta cần thực hiện kiểm tra tập dữ liệu cần thỏa mãn 3 tính chất trên.\n",
        "    "
      ]
    },
    {
      "cell_type": "code",
      "metadata": {
        "id": "DTeFw661wPs1"
      },
      "source": [
        "import numpy as np\n",
        "from scipy import stats"
      ],
      "execution_count": 2,
      "outputs": []
    },
    {
      "cell_type": "code",
      "metadata": {
        "colab": {
          "base_uri": "https://localhost:8080/"
        },
        "id": "bJNvS5Eiv9UL",
        "outputId": "41a74571-a1a9-442d-d7de-87571a608784"
      },
      "source": [
        "#Bước 1: Hãy tạo một tập dữ liệu mẫu sample_1 với kích thước 100 tuân theo phân phối chuẩn\n",
        "mean_1 = 10\n",
        "std_1 = 5\n",
        "N_1 = 100\n",
        "sample_1 = np.random.normal(mean_1, std_1, N_1)\n",
        "sample_1[:10]"
      ],
      "execution_count": 3,
      "outputs": [
        {
          "output_type": "execute_result",
          "data": {
            "text/plain": [
              "array([15.98431117, 11.59675751,  8.09098429, 20.42250724, 13.30803015,\n",
              "       10.90396946,  2.46565641, 23.32386259, 24.93413943,  7.11555926])"
            ]
          },
          "metadata": {
            "tags": []
          },
          "execution_count": 3
        }
      ]
    },
    {
      "cell_type": "code",
      "metadata": {
        "colab": {
          "base_uri": "https://localhost:8080/"
        },
        "id": "5b33ytspv9UM",
        "outputId": "c8537d30-541a-4858-98a5-2fdcbaf71d37"
      },
      "source": [
        "#Bước 2: hãy tạo tập dữ liệu mẫu sample_2 với kích thước 100 tuân theo phân phối Poisson\n",
        "sample_2 = np.random.poisson( lam = 8 , size = 1000 )\n",
        "sample_2[:10]"
      ],
      "execution_count": 4,
      "outputs": [
        {
          "output_type": "execute_result",
          "data": {
            "text/plain": [
              "array([ 6,  8,  8,  6,  5, 11,  8,  8,  9,  4])"
            ]
          },
          "metadata": {
            "tags": []
          },
          "execution_count": 4
        }
      ]
    },
    {
      "cell_type": "markdown",
      "metadata": {
        "id": "iICFykeFv9UN"
      },
      "source": [
        "Hãy tham khảo các hướng dẫn sau để kiểm định tính chất thứ 2 bằng phương pháp Shapiro-Wilks đối với sample_1 và sample_2\n",
        "\n",
        "(1) [Tài liệu tham khảo scipy](https://docs.scipy.org/doc/scipy/reference/generated/scipy.stats.shapiro.html)\n",
        "\n",
        "(2) [Hướng dẫn cụ thể của statology](https://www.statology.org/shapiro-wilk-test-python/)"
      ]
    },
    {
      "cell_type": "markdown",
      "metadata": {
        "id": "PpMExrsgWcqV"
      },
      "source": [
        "$Ho$: μ1 = μ2 = μ3 = μ4\n",
        "\n",
        "$Ha$: Tồn tại ít nhất một cặp (μi,μj) có giá trị khác nhau"
      ]
    },
    {
      "cell_type": "code",
      "metadata": {
        "colab": {
          "base_uri": "https://localhost:8080/"
        },
        "id": "sEOdUMBsv9UN",
        "outputId": "5ada8b80-f301-48ef-bd22-04066033b40c"
      },
      "source": [
        "#Code kiểm định tính chất thứ 2 của sample_1 và sample_2\n",
        "p_value_1 = stats.shapiro(sample_1)[1]\n",
        "p_value_2 = stats.shapiro(sample_2)[1]\n",
        "\n",
        "print(p_value_1)\n",
        "if p_value_1 > 0.05:\n",
        "  print('Không có đủ bằng chứng để nói rằng dữ liệu mẫu không tuân theo phân phối chuẩn')\n",
        "else:\n",
        "  print('Có đủ bằng chứng để nói rằng dữ liệu mẫu không tuân theo phân phối chuẩn')\n",
        "\n",
        "print(p_value_2)\n",
        "if p_value_2 > 0.05:\n",
        "  print('Không có đủ bằng chứng để nói rằng dữ liệu mẫu không tuân theo phân phối chuẩn')\n",
        "else:\n",
        "  print('Có đủ bằng chứng để nói rằng dữ liệu mẫu không tuân theo phân phối chuẩn')"
      ],
      "execution_count": 11,
      "outputs": [
        {
          "output_type": "stream",
          "text": [
            "0.6762694716453552\n",
            "Không có đủ bằng chứng để nói rằng dữ liệu mẫu không tuân theo phân phối chuẩn\n",
            "5.05254033056346e-11\n",
            "Có đủ bằng chứng để nói rằng dữ liệu mẫu không tuân theo phân phối chuẩn\n"
          ],
          "name": "stdout"
        }
      ]
    },
    {
      "cell_type": "markdown",
      "metadata": {
        "id": "ESRVJOyPv9UO"
      },
      "source": [
        "Hãy tham khảo các hướng dẫn sau để kiểm định tính chất thứ 3 bằng kiểm định Bartlett hoặc kiểm định Levene\n",
        "\n",
        "(1) [Hướng dẫn tổng quát](https://www.marsja.se/levenes-bartletts-test-of-equality-homogeneity-of-variance-in-python/)\n",
        "\n",
        "(2) [Hướng dẫn ở stackoverflow](https://stackoverflow.com/questions/36141254/how-to-test-for-homoscedasticity-having-the-same-population-variance-in-python)\n",
        "\n",
        "(3) Sử dụng bài giảng về kiểm định Bartlett và Levene ở buổi trước"
      ]
    },
    {
      "cell_type": "code",
      "metadata": {
        "colab": {
          "base_uri": "https://localhost:8080/"
        },
        "id": "ueq4XSBFv9UO",
        "outputId": "0ba10bc4-5b64-4694-ecb8-43971930749a"
      },
      "source": [
        "#Code kiểm định tính đồng nhất về phương sai của các nhóm\n",
        "# Kiểm định Levene\n",
        "p_value_3 = stats.levene(sample_1,sample_2)[1]\n",
        "print(p_value_3)\n",
        "if p_value_3 > 0.05:\n",
        "    print('Phương sai các mẫu bằng nhau')\n",
        "else:\n",
        "    print('Phương sai các mẫu không bằng nhau')"
      ],
      "execution_count": 9,
      "outputs": [
        {
          "output_type": "stream",
          "text": [
            "1.2712206414457064e-30\n",
            "Phương sai các mẫu không bằng nhau\n"
          ],
          "name": "stdout"
        }
      ]
    },
    {
      "cell_type": "code",
      "metadata": {
        "id": "FGbX7kOzzII4",
        "colab": {
          "base_uri": "https://localhost:8080/"
        },
        "outputId": "c1bdff9d-94a0-40bc-d2b6-e326d84ab535"
      },
      "source": [
        "#Kiểm định Bartlett\n",
        "p_value_4 = stats.bartlett(sample_1, sample_2)[1]\n",
        "print(p_value_4)\n",
        "if p_value_4 > 0.05:\n",
        "    print('Phương sai các mẫu bằng nhau')\n",
        "else:\n",
        "    print('Phương sai các mẫu không bằng nhau')"
      ],
      "execution_count": 8,
      "outputs": [
        {
          "output_type": "stream",
          "text": [
            "1.070432786462808e-35\n",
            "Phương sai các mẫu không bằng nhau\n"
          ],
          "name": "stdout"
        }
      ]
    }
  ]
}