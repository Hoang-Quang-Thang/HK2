{
  "nbformat": 4,
  "nbformat_minor": 0,
  "metadata": {
    "kernelspec": {
      "display_name": "Python 3",
      "language": "python",
      "name": "python3"
    },
    "language_info": {
      "codemirror_mode": {
        "name": "ipython",
        "version": 3
      },
      "file_extension": ".py",
      "mimetype": "text/x-python",
      "name": "python",
      "nbconvert_exporter": "python",
      "pygments_lexer": "ipython3",
      "version": "3.7.3"
    },
    "colab": {
      "name": "bai-tap-kiem-dinh-z-t.ipynb",
      "provenance": [],
      "include_colab_link": true
    }
  },
  "cells": [
    {
      "cell_type": "markdown",
      "metadata": {
        "id": "view-in-github",
        "colab_type": "text"
      },
      "source": [
        "<a href=\"https://colab.research.google.com/github/Hoang-Quang-Thang/HK2/blob/main/bai_tap_kiem_dinh_z_t.ipynb\" target=\"_parent\"><img src=\"https://colab.research.google.com/assets/colab-badge.svg\" alt=\"Open In Colab\"/></a>"
      ]
    },
    {
      "cell_type": "markdown",
      "metadata": {
        "id": "xX2R8LfKGkD2"
      },
      "source": [
        "XÂY DỰNG CHƯƠNG TRÌNH KIỂM ĐỊNH Z (HOẶC T) CHO CÁC BÀI TẬP SAU\n",
        "\n",
        "Gợi ý:\n",
        "\n",
        "- Số liệu được sinh ngẫu nhiên theo phân phối chuẩn\n",
        "- Sử dụng gói phần mềm statsmodels để tiến hành kiểm định\n",
        "- Đối với các bài tập kiểm định giả thuyết thì sinh viên cần phát biểu các giả thuyết (bằng tiếng Việt) $H_{0}$ và $H_{a}$ trước khi lập trình kiểm định"
      ]
    },
    {
      "cell_type": "markdown",
      "metadata": {
        "id": "LJJ8yCg9GkD7"
      },
      "source": [
        "Bài 1: You’re a Q/C inspector for Gallo. The sample standard deviation for 2-liter bottles is .05 liters.  A random sample of 100 bottles showed sample mean = 1.99 liters.  What is the 90%  confidence interval estimate of the true mean amount in 2-liter bottles? "
      ]
    },
    {
      "cell_type": "code",
      "metadata": {
        "colab": {
          "base_uri": "https://localhost:8080/"
        },
        "id": "FdLMm0_5GkD7",
        "outputId": "3cb2e81a-2e21-4bc9-855a-0c84ec59f414"
      },
      "source": [
        "#Code here\n",
        "import math\n",
        "\n",
        "n = 100\n",
        "mean = 1.99\n",
        "σ = 0.05\n",
        "z = 1.645\n",
        "confidence_down = round(mean - (z * σ / math.sqrt(n)),3)\n",
        "confidence_up = round(mean + (z * σ / math.sqrt(n)),3)\n",
        "print('The 90% confidence interval estimate of the true mean amount in 2-liter bottles is between',confidence_down ,'and',\n",
        "      confidence_up)"
      ],
      "execution_count": 7,
      "outputs": [
        {
          "output_type": "stream",
          "text": [
            "The 90% confidence interval estimate of the true mean amount in 2-liter bottles is between 1.982 and 1.998\n"
          ],
          "name": "stdout"
        }
      ]
    },
    {
      "cell_type": "markdown",
      "metadata": {
        "id": "jD7p0u2dGkD8"
      },
      "source": [
        "Bài 2: You’re a time study analyst in manufacturing.  You’ve recorded the following task times (min.): 3.6, 4.2, 4.0, 3.5, 3.8, 3.1. What is the 90% confidence interval estimate of the population mean task time? "
      ]
    },
    {
      "cell_type": "code",
      "metadata": {
        "colab": {
          "base_uri": "https://localhost:8080/"
        },
        "id": "VnpxAyTIGkD8",
        "outputId": "1b61c55c-2774-4a4e-80b4-c69eb1990961"
      },
      "source": [
        "#Code here\n",
        "import statistics\n",
        "\n",
        "x = [3.6,4.2,4,3.5,3.8,3.1]\n",
        "mean = round(sum(x) / len(x),1)\n",
        "n = 6\n",
        "df = n - 1\n",
        "t = 2.015\n",
        "standard = statistics.stdev(x)\n",
        "confidence_down = mean - (t * (standard / (n ** (1/2))))\n",
        "confidence_up = mean + (t * (standard / (n ** (1/2))))\n",
        "print('the 90% confidence interval estimate of the population mean task time is between',confidence_down,'and',confidence_up)\n"
      ],
      "execution_count": 8,
      "outputs": [
        {
          "output_type": "stream",
          "text": [
            "the 90% confidence interval estimate of the population mean task time is 3.379283562421049 and 4.020716437578951\n"
          ],
          "name": "stdout"
        }
      ]
    },
    {
      "cell_type": "markdown",
      "metadata": {
        "id": "XSxfXpeFGkD8"
      },
      "source": [
        "Bài 3: Does an average box of cereal contain 368 grams of cereal?  A random sample of 25 boxes had $\\overline{\\rm x}$ = 372.5.  The company has specified $\\sigma$ to be 25 grams.  Test at the .05 level of significance."
      ]
    },
    {
      "cell_type": "code",
      "metadata": {
        "colab": {
          "base_uri": "https://localhost:8080/"
        },
        "id": "e5OpeQdZGkD9",
        "outputId": "e75150f9-ea63-4509-e7a8-bd804a8ce33e"
      },
      "source": [
        "#Code here\n",
        "import numpy as np\n",
        "from statsmodels.stats.weightstats import ztest\n",
        "import warnings\n",
        "warnings.filterwarnings('ignore')\n",
        "\n",
        "mean = 372.5\n",
        "n = 25\n",
        "σ = 25\n",
        "µ = 368\n",
        "z = (mean - µ) / (σ / (n ** (1/2)))\n",
        "alpha = 0.05\n",
        "\n",
        "samples = np.random.normal(mean, σ, µ)\n",
        "\n",
        "ztest_Score, p_value= ztest(samples, value = µ, alternative='larger')\n",
        "\n",
        "if(p_value <  alpha):\n",
        "  print(\"Có bằng chứng để bác bỏ giả thuyết H0\")\n",
        "else:\n",
        "  print(\"Chưa có bằng chứng để bác bỏ giả thuyết H0\")"
      ],
      "execution_count": 29,
      "outputs": [
        {
          "output_type": "stream",
          "text": [
            "Có bằng chứng để bác bỏ giả thuyết H0\n"
          ],
          "name": "stdout"
        }
      ]
    },
    {
      "cell_type": "markdown",
      "metadata": {
        "id": "q4sav6VKGkD9"
      },
      "source": [
        "Bài 4: You’re a Q/C inspector.  You want to find out if a new machine is making electrical cords to customer specification: average breaking strength of 70 lb. with $\\sigma$ = 3.5 lb.  You take a sample of 36 cords & compute a sample mean of 69.7 lb.  At the .05 level of significance, is there evidence that the machine is not meeting the average breaking strength?"
      ]
    },
    {
      "cell_type": "code",
      "metadata": {
        "colab": {
          "base_uri": "https://localhost:8080/"
        },
        "id": "M0ovWLnmGkD9",
        "outputId": "74fa0c4a-ae4f-47df-c8fe-4ffcbc9f3812"
      },
      "source": [
        "#Code here\n",
        "import numpy as np\n",
        "from statsmodels.stats.weightstats import ztest\n",
        "import warnings\n",
        "warnings.filterwarnings('ignore')\n",
        "\n",
        "mean = 69.7\n",
        "σ  = 3.5 \n",
        "µ = 70\n",
        "n = 36\n",
        "z = (mean - µ) / (σ / (n ** (1/2)))\n",
        "\n",
        "alpha = 0.05\n",
        "\n",
        "samples = np.random.normal(mean, σ, µ)\n",
        "\n",
        "ztest_Score, p_value= ztest(samples, value = µ, alternative='larger')\n",
        "if(p_value <  alpha):\n",
        "  print(\"Có bằng chứng để bác bỏ giả thuyết H0\")\n",
        "else:\n",
        "  print(\"Chưa có bằng chứng để bác bỏ giả thuyết H0\")"
      ],
      "execution_count": 24,
      "outputs": [
        {
          "output_type": "stream",
          "text": [
            "Chưa có bằng chứng để bác bỏ giả thuyết H0\n"
          ],
          "name": "stdout"
        }
      ]
    },
    {
      "cell_type": "markdown",
      "metadata": {
        "id": "TfK3DqJSGkD_"
      },
      "source": [
        "Bài 5: Does an average box of cereal contain more than 368 grams of cereal?  A random sample of 25 boxes showed $\\overline{\\rm x}$ =  372.5.  The company has specified $\\sigma$ to be 25 grams.  Test at the .05 level of significance."
      ]
    },
    {
      "cell_type": "code",
      "metadata": {
        "colab": {
          "base_uri": "https://localhost:8080/"
        },
        "id": "GRBTZFJ_GkEA",
        "outputId": "edc325a4-9533-48ab-e588-5be700682d2a"
      },
      "source": [
        "#Code here\n",
        "import numpy as np\n",
        "from statsmodels.stats.weightstats import ztest\n",
        "import warnings\n",
        "warnings.filterwarnings('ignore')\n",
        "\n",
        "mean = 372.5\n",
        "n = 25\n",
        "σ = 25\n",
        "µ = 368\n",
        "z = (mean - µ) / (σ / (n ** (1/2)))\n",
        "alpha = 0.05\n",
        "\n",
        "samples = np.random.normal(mean, σ, µ)\n",
        "\n",
        "ztest_Score, p_value= ztest(samples, value = µ, alternative='larger')\n",
        "if(p_value <  alpha):\n",
        "  print(\"Có bằng chứng để bác bỏ giả thuyết H0\")\n",
        "else:\n",
        "  print(\"Chưa có bằng chứng để bác bỏ giả thuyết H0\")"
      ],
      "execution_count": 25,
      "outputs": [
        {
          "output_type": "stream",
          "text": [
            "Có bằng chứng để bác bỏ giả thuyết H0\n"
          ],
          "name": "stdout"
        }
      ]
    },
    {
      "cell_type": "markdown",
      "metadata": {
        "id": "02XI2gt_GkEA"
      },
      "source": [
        "Bài 6: You’re an analyst for Ford.  You want to find out if the average miles per gallon of Escorts is at least 32 mpg. Similar models have a standard deviation of 3.8 mpg. You take a sample of 60 Escorts & compute a sample mean of 30.7 mpg. At the .01 level of significance, is there evidence that the miles per gallon is less than 32?"
      ]
    },
    {
      "cell_type": "code",
      "metadata": {
        "colab": {
          "base_uri": "https://localhost:8080/"
        },
        "id": "I_CZRxufGkEA",
        "outputId": "7dba8d1e-c594-452d-ae4f-5a332beff5e7"
      },
      "source": [
        "\n",
        "alpha = 0.01\n",
        "null_mean = 32\n",
        "\n",
        "samples = np.random.normal(30.7,3.8,60)\n",
        "\n",
        "ztest_Score, p_value= ztest(samples, value = null_mean, alternative='larger')\n",
        "print('z = ', ztest_Score, '; p = ', p_value)\n",
        "if (p_value <  alpha)and (ztest_Score<0):\n",
        "  print(\"Có bằng chứng để bác bỏ giả thuyết H0\")\n",
        "else:\n",
        "  print(\"Chưa có bằng chứng để bác bỏ giả thuyết H0\")"
      ],
      "execution_count": 30,
      "outputs": [
        {
          "output_type": "stream",
          "text": [
            "z =  -3.0376471741246385 ; p =  0.9988078352887203\n",
            "Chưa có bằng chứng để bác bỏ giả thuyết H0\n"
          ],
          "name": "stdout"
        }
      ]
    },
    {
      "cell_type": "markdown",
      "metadata": {
        "id": "bC32lq_PGkEA"
      },
      "source": [
        "Bài 7: Does an average box of cereal contain 368 grams of cereal?  A random sample of 25 boxes showed $\\overline{\\rm x}$ = 372.5.  The company has specified $\\sigma$ to be 15 grams.  Find the p-Value."
      ]
    },
    {
      "cell_type": "code",
      "metadata": {
        "colab": {
          "base_uri": "https://localhost:8080/"
        },
        "id": "maWUOjJ6GkEA",
        "outputId": "089fb419-78f1-41fe-8aea-cb0ef78927fa"
      },
      "source": [
        "#Code here\n",
        "from scipy import stats as st\n",
        "null_mean = 368\n",
        "\n",
        "#Sinh ngẫu nhiên một mẫu 25 phần tử có trung bình mẫu là 372.5, độ lệch chuẩn là 25\n",
        "samples = np.random.normal(372.5, 25, 25)\n",
        "#Kiểm định t\n",
        "ttest_Score, p_value = st.ttest_1samp(samples, null_mean)\n",
        "print('p_value = ',p_value)"
      ],
      "execution_count": 32,
      "outputs": [
        {
          "output_type": "stream",
          "text": [
            "p_value =  0.11277445641832412\n"
          ],
          "name": "stdout"
        }
      ]
    },
    {
      "cell_type": "markdown",
      "metadata": {
        "id": "A-dpQZq1GkEB"
      },
      "source": [
        "Bài 8: Does an average box of cereal contain more than 368 grams of cereal?  A random sample of 25 boxes showed $\\overline{\\rm x}$ = 372.5.  The company has specified $\\sigma$ to be 15 grams.  Find the p-Value."
      ]
    },
    {
      "cell_type": "code",
      "metadata": {
        "colab": {
          "base_uri": "https://localhost:8080/"
        },
        "id": "R1PtqyAXGkEB",
        "outputId": "4e20b9d3-66f3-4025-fb78-9872684242cb"
      },
      "source": [
        "#Code here\n",
        "null_mean = 368\n",
        "\n",
        "\n",
        "samples = np.random.normal(372.5, 25, 25)\n",
        "\n",
        "ttest_Score, p_value = st.ttest_1samp(samples, null_mean)\n",
        "print('p_value = ',p_value)"
      ],
      "execution_count": 34,
      "outputs": [
        {
          "output_type": "stream",
          "text": [
            "p_value =  0.026591041744880875\n"
          ],
          "name": "stdout"
        }
      ]
    },
    {
      "cell_type": "markdown",
      "metadata": {
        "id": "lnhWnEiOGkEB"
      },
      "source": [
        "Bài 9: You’re an analyst for Ford.  You want to find out if the average miles per gallon of Escorts is less than 32 mpg.   Similar models have a standard deviation of 3.8 mpg.  You take a sample of 60 Escorts & compute a sample mean of 30.7 mpg.  What is the value of the observed level of significance (p-Value)?"
      ]
    },
    {
      "cell_type": "code",
      "metadata": {
        "colab": {
          "base_uri": "https://localhost:8080/"
        },
        "id": "aXsJ4IjuGkEB",
        "outputId": "e66d47a6-36bf-4e0b-b78a-0c06405b73b4"
      },
      "source": [
        "#Code here\n",
        "null_mean = 32\n",
        "#sinh ngẫu nhiên một mẫu 60 phần tử có trung bình mẫu là 30.7 độ lệch chuẩn là 3.8\n",
        "samples = np.random.normal(30.7,3.8,60)\n",
        "#kiểm định z\n",
        "ztest_Score, p_value= ztest(samples, value = null_mean, alternative='larger')\n",
        "print(' p = ', p_value)"
      ],
      "execution_count": 35,
      "outputs": [
        {
          "output_type": "stream",
          "text": [
            " p =  0.8910060830995712\n"
          ],
          "name": "stdout"
        }
      ]
    },
    {
      "cell_type": "markdown",
      "metadata": {
        "id": "tShwmIExGkEB"
      },
      "source": [
        "Bài 10: Does an average box of cereal contain 368 grams of cereal?  A random sample of 36 boxes had a mean of 372.5 and a standard deviation of 12 grams. Test at the .05 level of significance."
      ]
    },
    {
      "cell_type": "code",
      "metadata": {
        "colab": {
          "base_uri": "https://localhost:8080/"
        },
        "id": "3653aKiuGkEC",
        "outputId": "668818ab-ab68-4591-8b5f-6a43aaf61ef3"
      },
      "source": [
        "#Code here\n",
        "alpha = 0.05\n",
        "null_mean = 368\n",
        "\n",
        "#Sinh ngẫu nhiên một mẫu 25 phần tử có trung bình mẫu là 372.5, độ lệch chuẩn là 25\n",
        "samples = np.random.normal(372.5, 12, 36)\n",
        "#Kiểm định z\n",
        "ztest_Score, p_value= ztest(samples, value = null_mean, alternative='larger')\n",
        "\n",
        "if (p_value <  alpha/2):\n",
        "  print(\"Có bằng chứng để bác bỏ giả thuyết H0\")\n",
        "else:\n",
        "  print(\"Chưa có bằng chứng để bác bỏ giả thuyết H0\")"
      ],
      "execution_count": 37,
      "outputs": [
        {
          "output_type": "stream",
          "text": [
            "Có bằng chứng để bác bỏ giả thuyết H0\n"
          ],
          "name": "stdout"
        }
      ]
    },
    {
      "cell_type": "markdown",
      "metadata": {
        "id": "vKcHlj7oGkEC"
      },
      "source": [
        "Bài 11: You work for the FTC.  A manufacturer of detergent claims that the mean weight of detergent is 3.25 lb.  You take a random sample of 64 containers.  You calculate the sample average to be 3.238 lb. with a standard deviation of .117 lb.  At the .01 level of significance, is the manufacturer correct?"
      ]
    },
    {
      "cell_type": "code",
      "metadata": {
        "colab": {
          "base_uri": "https://localhost:8080/"
        },
        "id": "diHFaU2lGkEC",
        "outputId": "2cb0adad-a1f9-4fd1-857e-6d419a3e2835"
      },
      "source": [
        "#Code here\n",
        "alpha = 0.01\n",
        "null_mean = 3.25\n",
        "#Sinh ngẫu nhiên một mẫu 64 phần tử có trung bình mẫu là 3.238, độ lệch chuẩn là 0.117\n",
        "samples = np.random.normal(3.238, 0.117, 64)\n",
        "ztest_Score, p_value= ztest(samples, value = null_mean, alternative='larger')\n",
        "\n",
        "if (p_value <  alpha/2):\n",
        "  print(\"Có bằng chứng để bác bỏ giả thuyết H0\")\n",
        "else:\n",
        "  print(\"Chưa có bằng chứng để bác bỏ giả thuyết H0\")"
      ],
      "execution_count": 38,
      "outputs": [
        {
          "output_type": "stream",
          "text": [
            "Chưa có bằng chứng để bác bỏ giả thuyết H0\n"
          ],
          "name": "stdout"
        }
      ]
    },
    {
      "cell_type": "markdown",
      "metadata": {
        "id": "0HIq0gK1GkEC"
      },
      "source": [
        "Bài 12: Is the average capacity of batteries less than 140 ampere-hours?  A random sample of 20 batteries had a mean of 138.47 and a standard deviation of 2.66.  Assume a normal distribution. Test at the .05 level of significance."
      ]
    },
    {
      "cell_type": "code",
      "metadata": {
        "colab": {
          "base_uri": "https://localhost:8080/"
        },
        "id": "CQRan7rOGkED",
        "outputId": "4ebb8f95-cced-426c-fbe9-ac9b3373afb0"
      },
      "source": [
        "#Code here\n",
        "alpha = 0.05\n",
        "null_mean = 140\n",
        "#Sinh ngẫu nhiên một mẫu 20 phần tử có trung bình mẫu là 138.47, độ lệch chuẩn là 2.66\n",
        "samples = np.random.normal(138.47, 2.66, 20)\n",
        "#Kiểm định t\n",
        "ttest_Score, p_value = st.ttest_1samp(samples, null_mean)\n",
        "\n",
        "if(p_value <  alpha) and (ttest_Score>0):\n",
        "  print(\"Có bằng chứng để bác bỏ giả thuyết H0\")\n",
        "else:\n",
        "  print(\"Chưa có bằng chứng để bác bỏ giả thuyết H0\")"
      ],
      "execution_count": 39,
      "outputs": [
        {
          "output_type": "stream",
          "text": [
            "Chưa có bằng chứng để bác bỏ giả thuyết H0\n"
          ],
          "name": "stdout"
        }
      ]
    },
    {
      "cell_type": "markdown",
      "metadata": {
        "id": "KyrdvRAVGkED"
      },
      "source": [
        "Bài 13: You’re a marketing analyst for Wal-Mart.  Wal-Mart had teddy bears on sale last week.  The weekly sales of bears sold in 10 stores was: 8  11  0   4   7   8   10   5   8   3. At the .05 level of significance, is there evidence that the average bear sales per store is more than 5?"
      ]
    },
    {
      "cell_type": "code",
      "metadata": {
        "colab": {
          "base_uri": "https://localhost:8080/"
        },
        "id": "fnE7fpF3GkED",
        "outputId": "846dcf36-2ec9-4fd7-b697-4e94e0b687fd"
      },
      "source": [
        "#Code here\n",
        "a = np.array([8,11,0,4,7,8,10,5,8,3])\n",
        "alpha = 0.05\n",
        "null_mean = 5\n",
        "#Kiểm định t\n",
        "ttest_Score, p_value = st.ttest_1samp(a, null_mean)\n",
        "\n",
        "if(p_value <  alpha) and (ttest_Score>0):\n",
        "  print(\"Có bằng chứng để bác bỏ giả thuyết H0\")\n",
        "else:\n",
        "  print(\"Chưa có bằng chứng để bác bỏ giả thuyết H0\")"
      ],
      "execution_count": 41,
      "outputs": [
        {
          "output_type": "stream",
          "text": [
            "Chưa có bằng chứng để bác bỏ giả thuyết H0\n"
          ],
          "name": "stdout"
        }
      ]
    },
    {
      "cell_type": "code",
      "metadata": {
        "id": "XjEuF1b-GkED"
      },
      "source": [
        ""
      ],
      "execution_count": null,
      "outputs": []
    }
  ]
}